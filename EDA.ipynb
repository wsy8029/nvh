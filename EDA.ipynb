{
 "cells": [
  {
   "cell_type": "code",
   "execution_count": 1,
   "metadata": {
    "ExecuteTime": {
     "end_time": "2020-10-20T01:13:16.747313Z",
     "start_time": "2020-10-20T01:13:16.579444Z"
    }
   },
   "outputs": [],
   "source": [
    "import pandas as pd\n",
    "import numpy as np\n",
    "from matplotlib import pyplot as plt"
   ]
  },
  {
   "cell_type": "code",
   "execution_count": 2,
   "metadata": {
    "ExecuteTime": {
     "end_time": "2020-10-20T01:13:17.666712Z",
     "start_time": "2020-10-20T01:13:17.089514Z"
    }
   },
   "outputs": [],
   "source": [
    "data = pd.read_csv(\"./sample_data.txt\", sep= '\\t')\n",
    "# data = pd.read_csv(\"/Users/peter/Downloads/lg_train/201912_FLD165NBMA_vib_spectrum_modi_train.txt\", sep= '\\t')"
   ]
  },
  {
   "cell_type": "code",
   "execution_count": 3,
   "metadata": {
    "ExecuteTime": {
     "end_time": "2020-10-20T01:13:19.869768Z",
     "start_time": "2020-10-20T01:13:19.864963Z"
    }
   },
   "outputs": [
    {
     "data": {
      "text/plain": [
       "(10, 10005)"
      ]
     },
     "execution_count": 3,
     "metadata": {},
     "output_type": "execute_result"
    }
   ],
   "source": [
    "data.shape"
   ]
  },
  {
   "cell_type": "code",
   "execution_count": 4,
   "metadata": {
    "ExecuteTime": {
     "end_time": "2020-10-20T01:13:20.731422Z",
     "start_time": "2020-10-20T01:13:20.697330Z"
    }
   },
   "outputs": [
    {
     "data": {
      "text/html": [
       "<div>\n",
       "<style scoped>\n",
       "    .dataframe tbody tr th:only-of-type {\n",
       "        vertical-align: middle;\n",
       "    }\n",
       "\n",
       "    .dataframe tbody tr th {\n",
       "        vertical-align: top;\n",
       "    }\n",
       "\n",
       "    .dataframe thead th {\n",
       "        text-align: right;\n",
       "    }\n",
       "</style>\n",
       "<table border=\"1\" class=\"dataframe\">\n",
       "  <thead>\n",
       "    <tr style=\"text-align: right;\">\n",
       "      <th></th>\n",
       "      <th>label</th>\n",
       "      <th>meastime</th>\n",
       "      <th>stage</th>\n",
       "      <th>degc</th>\n",
       "      <th>0 Hz</th>\n",
       "      <th>1 Hz</th>\n",
       "      <th>2 Hz</th>\n",
       "      <th>3 Hz</th>\n",
       "      <th>4 Hz</th>\n",
       "      <th>5 Hz</th>\n",
       "      <th>...</th>\n",
       "      <th>9991 Hz</th>\n",
       "      <th>9992 Hz</th>\n",
       "      <th>9993 Hz</th>\n",
       "      <th>9994 Hz</th>\n",
       "      <th>9995 Hz</th>\n",
       "      <th>9996 Hz</th>\n",
       "      <th>9997 Hz</th>\n",
       "      <th>9998 Hz</th>\n",
       "      <th>9999 Hz</th>\n",
       "      <th>10000 Hz</th>\n",
       "    </tr>\n",
       "  </thead>\n",
       "  <tbody>\n",
       "    <tr>\n",
       "      <th>0</th>\n",
       "      <td>0</td>\n",
       "      <td>20200408132629</td>\n",
       "      <td>s1</td>\n",
       "      <td>60.8</td>\n",
       "      <td>3.337466e-15</td>\n",
       "      <td>6.813422e-15</td>\n",
       "      <td>7.246523e-15</td>\n",
       "      <td>8.078009e-15</td>\n",
       "      <td>9.321475e-15</td>\n",
       "      <td>1.169665e-14</td>\n",
       "      <td>...</td>\n",
       "      <td>1.470507e-06</td>\n",
       "      <td>1.227576e-06</td>\n",
       "      <td>8.681997e-07</td>\n",
       "      <td>6.773161e-07</td>\n",
       "      <td>3.666906e-07</td>\n",
       "      <td>1.733466e-07</td>\n",
       "      <td>4.257153e-07</td>\n",
       "      <td>1.146287e-06</td>\n",
       "      <td>2.315876e-06</td>\n",
       "      <td>8.365001e-06</td>\n",
       "    </tr>\n",
       "    <tr>\n",
       "      <th>1</th>\n",
       "      <td>0</td>\n",
       "      <td>20200422112911</td>\n",
       "      <td>s7</td>\n",
       "      <td>71.1</td>\n",
       "      <td>3.518254e-14</td>\n",
       "      <td>7.266183e-14</td>\n",
       "      <td>7.994039e-14</td>\n",
       "      <td>9.354825e-14</td>\n",
       "      <td>1.156408e-13</td>\n",
       "      <td>1.538780e-13</td>\n",
       "      <td>...</td>\n",
       "      <td>1.396176e-06</td>\n",
       "      <td>2.875137e-06</td>\n",
       "      <td>1.420636e-06</td>\n",
       "      <td>1.391422e-06</td>\n",
       "      <td>1.892279e-06</td>\n",
       "      <td>3.798289e-06</td>\n",
       "      <td>3.971005e-06</td>\n",
       "      <td>3.528786e-06</td>\n",
       "      <td>1.125920e-05</td>\n",
       "      <td>8.634675e-05</td>\n",
       "    </tr>\n",
       "    <tr>\n",
       "      <th>2</th>\n",
       "      <td>0</td>\n",
       "      <td>20200417151032</td>\n",
       "      <td>s2</td>\n",
       "      <td>49.6</td>\n",
       "      <td>3.963802e-15</td>\n",
       "      <td>8.343728e-15</td>\n",
       "      <td>9.659595e-15</td>\n",
       "      <td>1.208021e-14</td>\n",
       "      <td>1.604541e-14</td>\n",
       "      <td>2.275951e-14</td>\n",
       "      <td>...</td>\n",
       "      <td>6.257802e-08</td>\n",
       "      <td>9.304342e-08</td>\n",
       "      <td>6.333435e-08</td>\n",
       "      <td>2.357872e-07</td>\n",
       "      <td>4.400379e-07</td>\n",
       "      <td>2.393002e-06</td>\n",
       "      <td>3.405056e-06</td>\n",
       "      <td>9.397469e-07</td>\n",
       "      <td>2.325818e-06</td>\n",
       "      <td>1.280774e-06</td>\n",
       "    </tr>\n",
       "    <tr>\n",
       "      <th>3</th>\n",
       "      <td>0</td>\n",
       "      <td>20200422150542</td>\n",
       "      <td>s6</td>\n",
       "      <td>53.5</td>\n",
       "      <td>7.786948e-15</td>\n",
       "      <td>1.609174e-14</td>\n",
       "      <td>1.774796e-14</td>\n",
       "      <td>2.082929e-14</td>\n",
       "      <td>2.614301e-14</td>\n",
       "      <td>3.435657e-14</td>\n",
       "      <td>...</td>\n",
       "      <td>4.884777e-07</td>\n",
       "      <td>4.677642e-07</td>\n",
       "      <td>2.229568e-06</td>\n",
       "      <td>3.888228e-06</td>\n",
       "      <td>1.698461e-05</td>\n",
       "      <td>1.836729e-05</td>\n",
       "      <td>4.214171e-06</td>\n",
       "      <td>1.012343e-05</td>\n",
       "      <td>3.617143e-06</td>\n",
       "      <td>6.269778e-07</td>\n",
       "    </tr>\n",
       "    <tr>\n",
       "      <th>4</th>\n",
       "      <td>0</td>\n",
       "      <td>20200408085215</td>\n",
       "      <td>s4</td>\n",
       "      <td>63.9</td>\n",
       "      <td>2.142766e-14</td>\n",
       "      <td>4.349323e-14</td>\n",
       "      <td>4.547246e-14</td>\n",
       "      <td>4.902936e-14</td>\n",
       "      <td>5.487627e-14</td>\n",
       "      <td>6.301525e-14</td>\n",
       "      <td>...</td>\n",
       "      <td>5.531142e-07</td>\n",
       "      <td>2.072130e-06</td>\n",
       "      <td>4.804855e-06</td>\n",
       "      <td>3.355894e-05</td>\n",
       "      <td>6.870571e-05</td>\n",
       "      <td>5.572402e-05</td>\n",
       "      <td>4.573358e-05</td>\n",
       "      <td>8.669402e-06</td>\n",
       "      <td>7.253392e-06</td>\n",
       "      <td>2.876429e-06</td>\n",
       "    </tr>\n",
       "    <tr>\n",
       "      <th>5</th>\n",
       "      <td>0</td>\n",
       "      <td>20200401191456</td>\n",
       "      <td>s4</td>\n",
       "      <td>65.7</td>\n",
       "      <td>2.843588e-14</td>\n",
       "      <td>5.801749e-14</td>\n",
       "      <td>6.162536e-14</td>\n",
       "      <td>6.824914e-14</td>\n",
       "      <td>7.935923e-14</td>\n",
       "      <td>9.583618e-14</td>\n",
       "      <td>...</td>\n",
       "      <td>5.749289e-07</td>\n",
       "      <td>1.237595e-06</td>\n",
       "      <td>2.035427e-06</td>\n",
       "      <td>3.650389e-06</td>\n",
       "      <td>2.307347e-06</td>\n",
       "      <td>1.587144e-06</td>\n",
       "      <td>1.847724e-06</td>\n",
       "      <td>2.877964e-06</td>\n",
       "      <td>1.431568e-06</td>\n",
       "      <td>8.458068e-07</td>\n",
       "    </tr>\n",
       "    <tr>\n",
       "      <th>6</th>\n",
       "      <td>0</td>\n",
       "      <td>20200408102603</td>\n",
       "      <td>s8</td>\n",
       "      <td>64.6</td>\n",
       "      <td>8.259474e-14</td>\n",
       "      <td>1.702583e-13</td>\n",
       "      <td>1.863012e-13</td>\n",
       "      <td>2.160825e-13</td>\n",
       "      <td>2.634671e-13</td>\n",
       "      <td>3.383763e-13</td>\n",
       "      <td>...</td>\n",
       "      <td>6.412776e-06</td>\n",
       "      <td>4.315448e-06</td>\n",
       "      <td>1.264098e-05</td>\n",
       "      <td>3.491533e-06</td>\n",
       "      <td>5.281232e-07</td>\n",
       "      <td>6.817123e-07</td>\n",
       "      <td>5.579179e-07</td>\n",
       "      <td>8.248013e-07</td>\n",
       "      <td>3.683016e-07</td>\n",
       "      <td>6.676920e-07</td>\n",
       "    </tr>\n",
       "    <tr>\n",
       "      <th>7</th>\n",
       "      <td>0</td>\n",
       "      <td>20200416164405</td>\n",
       "      <td>s7</td>\n",
       "      <td>64.7</td>\n",
       "      <td>2.524975e-15</td>\n",
       "      <td>5.348803e-15</td>\n",
       "      <td>6.297586e-15</td>\n",
       "      <td>8.035920e-15</td>\n",
       "      <td>1.081191e-14</td>\n",
       "      <td>1.561049e-14</td>\n",
       "      <td>...</td>\n",
       "      <td>1.000111e-07</td>\n",
       "      <td>1.580460e-07</td>\n",
       "      <td>6.672723e-08</td>\n",
       "      <td>1.164466e-07</td>\n",
       "      <td>1.556111e-07</td>\n",
       "      <td>1.806838e-07</td>\n",
       "      <td>3.742918e-07</td>\n",
       "      <td>9.549482e-07</td>\n",
       "      <td>6.392315e-06</td>\n",
       "      <td>1.158501e-05</td>\n",
       "    </tr>\n",
       "    <tr>\n",
       "      <th>8</th>\n",
       "      <td>1</td>\n",
       "      <td>20200408113925</td>\n",
       "      <td>s5</td>\n",
       "      <td>66.6</td>\n",
       "      <td>2.519073e-14</td>\n",
       "      <td>5.163043e-14</td>\n",
       "      <td>5.555720e-14</td>\n",
       "      <td>6.280223e-14</td>\n",
       "      <td>7.374439e-14</td>\n",
       "      <td>9.363082e-14</td>\n",
       "      <td>...</td>\n",
       "      <td>4.829257e-07</td>\n",
       "      <td>5.904012e-07</td>\n",
       "      <td>6.122929e-07</td>\n",
       "      <td>3.724896e-07</td>\n",
       "      <td>5.890676e-07</td>\n",
       "      <td>1.067424e-06</td>\n",
       "      <td>5.973574e-06</td>\n",
       "      <td>1.412959e-05</td>\n",
       "      <td>2.751901e-05</td>\n",
       "      <td>1.315984e-05</td>\n",
       "    </tr>\n",
       "    <tr>\n",
       "      <th>9</th>\n",
       "      <td>1</td>\n",
       "      <td>20200417192412</td>\n",
       "      <td>s5</td>\n",
       "      <td>62.2</td>\n",
       "      <td>1.464507e-14</td>\n",
       "      <td>3.071371e-14</td>\n",
       "      <td>3.522177e-14</td>\n",
       "      <td>4.360136e-14</td>\n",
       "      <td>5.732303e-14</td>\n",
       "      <td>8.108217e-14</td>\n",
       "      <td>...</td>\n",
       "      <td>7.710664e-07</td>\n",
       "      <td>6.492042e-07</td>\n",
       "      <td>8.085241e-07</td>\n",
       "      <td>5.665101e-07</td>\n",
       "      <td>1.844271e-06</td>\n",
       "      <td>5.445187e-06</td>\n",
       "      <td>4.123601e-05</td>\n",
       "      <td>6.119383e-05</td>\n",
       "      <td>2.029021e-05</td>\n",
       "      <td>3.086149e-05</td>\n",
       "    </tr>\n",
       "  </tbody>\n",
       "</table>\n",
       "<p>10 rows × 10005 columns</p>\n",
       "</div>"
      ],
      "text/plain": [
       "   label        meastime stage  degc          0 Hz          1 Hz  \\\n",
       "0      0  20200408132629    s1  60.8  3.337466e-15  6.813422e-15   \n",
       "1      0  20200422112911    s7  71.1  3.518254e-14  7.266183e-14   \n",
       "2      0  20200417151032    s2  49.6  3.963802e-15  8.343728e-15   \n",
       "3      0  20200422150542    s6  53.5  7.786948e-15  1.609174e-14   \n",
       "4      0  20200408085215    s4  63.9  2.142766e-14  4.349323e-14   \n",
       "5      0  20200401191456    s4  65.7  2.843588e-14  5.801749e-14   \n",
       "6      0  20200408102603    s8  64.6  8.259474e-14  1.702583e-13   \n",
       "7      0  20200416164405    s7  64.7  2.524975e-15  5.348803e-15   \n",
       "8      1  20200408113925    s5  66.6  2.519073e-14  5.163043e-14   \n",
       "9      1  20200417192412    s5  62.2  1.464507e-14  3.071371e-14   \n",
       "\n",
       "           2 Hz          3 Hz          4 Hz          5 Hz  ...       9991 Hz  \\\n",
       "0  7.246523e-15  8.078009e-15  9.321475e-15  1.169665e-14  ...  1.470507e-06   \n",
       "1  7.994039e-14  9.354825e-14  1.156408e-13  1.538780e-13  ...  1.396176e-06   \n",
       "2  9.659595e-15  1.208021e-14  1.604541e-14  2.275951e-14  ...  6.257802e-08   \n",
       "3  1.774796e-14  2.082929e-14  2.614301e-14  3.435657e-14  ...  4.884777e-07   \n",
       "4  4.547246e-14  4.902936e-14  5.487627e-14  6.301525e-14  ...  5.531142e-07   \n",
       "5  6.162536e-14  6.824914e-14  7.935923e-14  9.583618e-14  ...  5.749289e-07   \n",
       "6  1.863012e-13  2.160825e-13  2.634671e-13  3.383763e-13  ...  6.412776e-06   \n",
       "7  6.297586e-15  8.035920e-15  1.081191e-14  1.561049e-14  ...  1.000111e-07   \n",
       "8  5.555720e-14  6.280223e-14  7.374439e-14  9.363082e-14  ...  4.829257e-07   \n",
       "9  3.522177e-14  4.360136e-14  5.732303e-14  8.108217e-14  ...  7.710664e-07   \n",
       "\n",
       "        9992 Hz       9993 Hz       9994 Hz       9995 Hz       9996 Hz  \\\n",
       "0  1.227576e-06  8.681997e-07  6.773161e-07  3.666906e-07  1.733466e-07   \n",
       "1  2.875137e-06  1.420636e-06  1.391422e-06  1.892279e-06  3.798289e-06   \n",
       "2  9.304342e-08  6.333435e-08  2.357872e-07  4.400379e-07  2.393002e-06   \n",
       "3  4.677642e-07  2.229568e-06  3.888228e-06  1.698461e-05  1.836729e-05   \n",
       "4  2.072130e-06  4.804855e-06  3.355894e-05  6.870571e-05  5.572402e-05   \n",
       "5  1.237595e-06  2.035427e-06  3.650389e-06  2.307347e-06  1.587144e-06   \n",
       "6  4.315448e-06  1.264098e-05  3.491533e-06  5.281232e-07  6.817123e-07   \n",
       "7  1.580460e-07  6.672723e-08  1.164466e-07  1.556111e-07  1.806838e-07   \n",
       "8  5.904012e-07  6.122929e-07  3.724896e-07  5.890676e-07  1.067424e-06   \n",
       "9  6.492042e-07  8.085241e-07  5.665101e-07  1.844271e-06  5.445187e-06   \n",
       "\n",
       "        9997 Hz       9998 Hz       9999 Hz      10000 Hz  \n",
       "0  4.257153e-07  1.146287e-06  2.315876e-06  8.365001e-06  \n",
       "1  3.971005e-06  3.528786e-06  1.125920e-05  8.634675e-05  \n",
       "2  3.405056e-06  9.397469e-07  2.325818e-06  1.280774e-06  \n",
       "3  4.214171e-06  1.012343e-05  3.617143e-06  6.269778e-07  \n",
       "4  4.573358e-05  8.669402e-06  7.253392e-06  2.876429e-06  \n",
       "5  1.847724e-06  2.877964e-06  1.431568e-06  8.458068e-07  \n",
       "6  5.579179e-07  8.248013e-07  3.683016e-07  6.676920e-07  \n",
       "7  3.742918e-07  9.549482e-07  6.392315e-06  1.158501e-05  \n",
       "8  5.973574e-06  1.412959e-05  2.751901e-05  1.315984e-05  \n",
       "9  4.123601e-05  6.119383e-05  2.029021e-05  3.086149e-05  \n",
       "\n",
       "[10 rows x 10005 columns]"
      ]
     },
     "execution_count": 4,
     "metadata": {},
     "output_type": "execute_result"
    }
   ],
   "source": [
    "data"
   ]
  },
  {
   "cell_type": "code",
   "execution_count": 5,
   "metadata": {
    "ExecuteTime": {
     "end_time": "2020-10-20T01:13:24.120394Z",
     "start_time": "2020-10-20T01:13:24.089187Z"
    }
   },
   "outputs": [
    {
     "data": {
      "text/html": [
       "<div>\n",
       "<style scoped>\n",
       "    .dataframe tbody tr th:only-of-type {\n",
       "        vertical-align: middle;\n",
       "    }\n",
       "\n",
       "    .dataframe tbody tr th {\n",
       "        vertical-align: top;\n",
       "    }\n",
       "\n",
       "    .dataframe thead th {\n",
       "        text-align: right;\n",
       "    }\n",
       "</style>\n",
       "<table border=\"1\" class=\"dataframe\">\n",
       "  <thead>\n",
       "    <tr style=\"text-align: right;\">\n",
       "      <th></th>\n",
       "      <th>0 Hz</th>\n",
       "      <th>1 Hz</th>\n",
       "      <th>2 Hz</th>\n",
       "      <th>3 Hz</th>\n",
       "      <th>4 Hz</th>\n",
       "      <th>5 Hz</th>\n",
       "      <th>6 Hz</th>\n",
       "      <th>7 Hz</th>\n",
       "      <th>8 Hz</th>\n",
       "      <th>9 Hz</th>\n",
       "      <th>...</th>\n",
       "      <th>9991 Hz</th>\n",
       "      <th>9992 Hz</th>\n",
       "      <th>9993 Hz</th>\n",
       "      <th>9994 Hz</th>\n",
       "      <th>9995 Hz</th>\n",
       "      <th>9996 Hz</th>\n",
       "      <th>9997 Hz</th>\n",
       "      <th>9998 Hz</th>\n",
       "      <th>9999 Hz</th>\n",
       "      <th>10000 Hz</th>\n",
       "    </tr>\n",
       "  </thead>\n",
       "  <tbody>\n",
       "    <tr>\n",
       "      <th>0</th>\n",
       "      <td>3.337466e-15</td>\n",
       "      <td>6.813422e-15</td>\n",
       "      <td>7.246523e-15</td>\n",
       "      <td>8.078009e-15</td>\n",
       "      <td>9.321475e-15</td>\n",
       "      <td>1.169665e-14</td>\n",
       "      <td>1.689652e-14</td>\n",
       "      <td>3.426311e-14</td>\n",
       "      <td>2.184865e-13</td>\n",
       "      <td>7.629563e-13</td>\n",
       "      <td>...</td>\n",
       "      <td>1.470507e-06</td>\n",
       "      <td>1.227576e-06</td>\n",
       "      <td>8.681997e-07</td>\n",
       "      <td>6.773161e-07</td>\n",
       "      <td>3.666906e-07</td>\n",
       "      <td>1.733466e-07</td>\n",
       "      <td>4.257153e-07</td>\n",
       "      <td>1.146287e-06</td>\n",
       "      <td>2.315876e-06</td>\n",
       "      <td>8.365001e-06</td>\n",
       "    </tr>\n",
       "    <tr>\n",
       "      <th>1</th>\n",
       "      <td>3.518254e-14</td>\n",
       "      <td>7.266183e-14</td>\n",
       "      <td>7.994039e-14</td>\n",
       "      <td>9.354825e-14</td>\n",
       "      <td>1.156408e-13</td>\n",
       "      <td>1.538780e-13</td>\n",
       "      <td>2.257304e-13</td>\n",
       "      <td>3.133745e-13</td>\n",
       "      <td>1.042533e-12</td>\n",
       "      <td>3.635461e-12</td>\n",
       "      <td>...</td>\n",
       "      <td>1.396176e-06</td>\n",
       "      <td>2.875137e-06</td>\n",
       "      <td>1.420636e-06</td>\n",
       "      <td>1.391422e-06</td>\n",
       "      <td>1.892279e-06</td>\n",
       "      <td>3.798289e-06</td>\n",
       "      <td>3.971005e-06</td>\n",
       "      <td>3.528786e-06</td>\n",
       "      <td>1.125920e-05</td>\n",
       "      <td>8.634675e-05</td>\n",
       "    </tr>\n",
       "    <tr>\n",
       "      <th>2</th>\n",
       "      <td>3.963802e-15</td>\n",
       "      <td>8.343728e-15</td>\n",
       "      <td>9.659595e-15</td>\n",
       "      <td>1.208021e-14</td>\n",
       "      <td>1.604541e-14</td>\n",
       "      <td>2.275951e-14</td>\n",
       "      <td>3.181535e-14</td>\n",
       "      <td>6.414696e-14</td>\n",
       "      <td>2.259836e-13</td>\n",
       "      <td>8.859086e-13</td>\n",
       "      <td>...</td>\n",
       "      <td>6.257802e-08</td>\n",
       "      <td>9.304342e-08</td>\n",
       "      <td>6.333435e-08</td>\n",
       "      <td>2.357872e-07</td>\n",
       "      <td>4.400379e-07</td>\n",
       "      <td>2.393002e-06</td>\n",
       "      <td>3.405056e-06</td>\n",
       "      <td>9.397469e-07</td>\n",
       "      <td>2.325818e-06</td>\n",
       "      <td>1.280774e-06</td>\n",
       "    </tr>\n",
       "    <tr>\n",
       "      <th>3</th>\n",
       "      <td>7.786948e-15</td>\n",
       "      <td>1.609174e-14</td>\n",
       "      <td>1.774796e-14</td>\n",
       "      <td>2.082929e-14</td>\n",
       "      <td>2.614301e-14</td>\n",
       "      <td>3.435657e-14</td>\n",
       "      <td>5.064754e-14</td>\n",
       "      <td>9.114411e-14</td>\n",
       "      <td>3.468690e-13</td>\n",
       "      <td>1.410904e-12</td>\n",
       "      <td>...</td>\n",
       "      <td>4.884777e-07</td>\n",
       "      <td>4.677642e-07</td>\n",
       "      <td>2.229568e-06</td>\n",
       "      <td>3.888228e-06</td>\n",
       "      <td>1.698461e-05</td>\n",
       "      <td>1.836729e-05</td>\n",
       "      <td>4.214171e-06</td>\n",
       "      <td>1.012343e-05</td>\n",
       "      <td>3.617143e-06</td>\n",
       "      <td>6.269778e-07</td>\n",
       "    </tr>\n",
       "    <tr>\n",
       "      <th>4</th>\n",
       "      <td>2.142766e-14</td>\n",
       "      <td>4.349323e-14</td>\n",
       "      <td>4.547246e-14</td>\n",
       "      <td>4.902936e-14</td>\n",
       "      <td>5.487627e-14</td>\n",
       "      <td>6.301525e-14</td>\n",
       "      <td>7.588735e-14</td>\n",
       "      <td>9.633166e-14</td>\n",
       "      <td>2.849964e-13</td>\n",
       "      <td>7.345845e-13</td>\n",
       "      <td>...</td>\n",
       "      <td>5.531142e-07</td>\n",
       "      <td>2.072130e-06</td>\n",
       "      <td>4.804855e-06</td>\n",
       "      <td>3.355894e-05</td>\n",
       "      <td>6.870571e-05</td>\n",
       "      <td>5.572402e-05</td>\n",
       "      <td>4.573358e-05</td>\n",
       "      <td>8.669402e-06</td>\n",
       "      <td>7.253392e-06</td>\n",
       "      <td>2.876429e-06</td>\n",
       "    </tr>\n",
       "    <tr>\n",
       "      <th>5</th>\n",
       "      <td>2.843588e-14</td>\n",
       "      <td>5.801749e-14</td>\n",
       "      <td>6.162536e-14</td>\n",
       "      <td>6.824914e-14</td>\n",
       "      <td>7.935923e-14</td>\n",
       "      <td>9.583618e-14</td>\n",
       "      <td>1.188761e-13</td>\n",
       "      <td>2.158877e-13</td>\n",
       "      <td>4.571295e-13</td>\n",
       "      <td>1.188279e-12</td>\n",
       "      <td>...</td>\n",
       "      <td>5.749289e-07</td>\n",
       "      <td>1.237595e-06</td>\n",
       "      <td>2.035427e-06</td>\n",
       "      <td>3.650389e-06</td>\n",
       "      <td>2.307347e-06</td>\n",
       "      <td>1.587144e-06</td>\n",
       "      <td>1.847724e-06</td>\n",
       "      <td>2.877964e-06</td>\n",
       "      <td>1.431568e-06</td>\n",
       "      <td>8.458068e-07</td>\n",
       "    </tr>\n",
       "    <tr>\n",
       "      <th>6</th>\n",
       "      <td>8.259474e-14</td>\n",
       "      <td>1.702583e-13</td>\n",
       "      <td>1.863012e-13</td>\n",
       "      <td>2.160825e-13</td>\n",
       "      <td>2.634671e-13</td>\n",
       "      <td>3.383763e-13</td>\n",
       "      <td>4.509646e-13</td>\n",
       "      <td>9.317864e-13</td>\n",
       "      <td>2.264361e-12</td>\n",
       "      <td>4.491115e-12</td>\n",
       "      <td>...</td>\n",
       "      <td>6.412776e-06</td>\n",
       "      <td>4.315448e-06</td>\n",
       "      <td>1.264098e-05</td>\n",
       "      <td>3.491533e-06</td>\n",
       "      <td>5.281232e-07</td>\n",
       "      <td>6.817123e-07</td>\n",
       "      <td>5.579179e-07</td>\n",
       "      <td>8.248013e-07</td>\n",
       "      <td>3.683016e-07</td>\n",
       "      <td>6.676920e-07</td>\n",
       "    </tr>\n",
       "    <tr>\n",
       "      <th>7</th>\n",
       "      <td>2.524975e-15</td>\n",
       "      <td>5.348803e-15</td>\n",
       "      <td>6.297586e-15</td>\n",
       "      <td>8.035920e-15</td>\n",
       "      <td>1.081191e-14</td>\n",
       "      <td>1.561049e-14</td>\n",
       "      <td>3.062315e-14</td>\n",
       "      <td>5.043762e-14</td>\n",
       "      <td>2.584618e-13</td>\n",
       "      <td>4.465483e-13</td>\n",
       "      <td>...</td>\n",
       "      <td>1.000111e-07</td>\n",
       "      <td>1.580460e-07</td>\n",
       "      <td>6.672723e-08</td>\n",
       "      <td>1.164466e-07</td>\n",
       "      <td>1.556111e-07</td>\n",
       "      <td>1.806838e-07</td>\n",
       "      <td>3.742918e-07</td>\n",
       "      <td>9.549482e-07</td>\n",
       "      <td>6.392315e-06</td>\n",
       "      <td>1.158501e-05</td>\n",
       "    </tr>\n",
       "    <tr>\n",
       "      <th>8</th>\n",
       "      <td>2.519073e-14</td>\n",
       "      <td>5.163043e-14</td>\n",
       "      <td>5.555720e-14</td>\n",
       "      <td>6.280223e-14</td>\n",
       "      <td>7.374439e-14</td>\n",
       "      <td>9.363082e-14</td>\n",
       "      <td>1.178769e-13</td>\n",
       "      <td>1.558025e-13</td>\n",
       "      <td>4.122533e-13</td>\n",
       "      <td>1.232272e-12</td>\n",
       "      <td>...</td>\n",
       "      <td>4.829257e-07</td>\n",
       "      <td>5.904012e-07</td>\n",
       "      <td>6.122929e-07</td>\n",
       "      <td>3.724896e-07</td>\n",
       "      <td>5.890676e-07</td>\n",
       "      <td>1.067424e-06</td>\n",
       "      <td>5.973574e-06</td>\n",
       "      <td>1.412959e-05</td>\n",
       "      <td>2.751901e-05</td>\n",
       "      <td>1.315984e-05</td>\n",
       "    </tr>\n",
       "    <tr>\n",
       "      <th>9</th>\n",
       "      <td>1.464507e-14</td>\n",
       "      <td>3.071371e-14</td>\n",
       "      <td>3.522177e-14</td>\n",
       "      <td>4.360136e-14</td>\n",
       "      <td>5.732303e-14</td>\n",
       "      <td>8.108217e-14</td>\n",
       "      <td>1.063195e-13</td>\n",
       "      <td>1.866665e-13</td>\n",
       "      <td>7.391415e-13</td>\n",
       "      <td>3.055674e-12</td>\n",
       "      <td>...</td>\n",
       "      <td>7.710664e-07</td>\n",
       "      <td>6.492042e-07</td>\n",
       "      <td>8.085241e-07</td>\n",
       "      <td>5.665101e-07</td>\n",
       "      <td>1.844271e-06</td>\n",
       "      <td>5.445187e-06</td>\n",
       "      <td>4.123601e-05</td>\n",
       "      <td>6.119383e-05</td>\n",
       "      <td>2.029021e-05</td>\n",
       "      <td>3.086149e-05</td>\n",
       "    </tr>\n",
       "  </tbody>\n",
       "</table>\n",
       "<p>10 rows × 10001 columns</p>\n",
       "</div>"
      ],
      "text/plain": [
       "           0 Hz          1 Hz          2 Hz          3 Hz          4 Hz  \\\n",
       "0  3.337466e-15  6.813422e-15  7.246523e-15  8.078009e-15  9.321475e-15   \n",
       "1  3.518254e-14  7.266183e-14  7.994039e-14  9.354825e-14  1.156408e-13   \n",
       "2  3.963802e-15  8.343728e-15  9.659595e-15  1.208021e-14  1.604541e-14   \n",
       "3  7.786948e-15  1.609174e-14  1.774796e-14  2.082929e-14  2.614301e-14   \n",
       "4  2.142766e-14  4.349323e-14  4.547246e-14  4.902936e-14  5.487627e-14   \n",
       "5  2.843588e-14  5.801749e-14  6.162536e-14  6.824914e-14  7.935923e-14   \n",
       "6  8.259474e-14  1.702583e-13  1.863012e-13  2.160825e-13  2.634671e-13   \n",
       "7  2.524975e-15  5.348803e-15  6.297586e-15  8.035920e-15  1.081191e-14   \n",
       "8  2.519073e-14  5.163043e-14  5.555720e-14  6.280223e-14  7.374439e-14   \n",
       "9  1.464507e-14  3.071371e-14  3.522177e-14  4.360136e-14  5.732303e-14   \n",
       "\n",
       "           5 Hz          6 Hz          7 Hz          8 Hz          9 Hz  ...  \\\n",
       "0  1.169665e-14  1.689652e-14  3.426311e-14  2.184865e-13  7.629563e-13  ...   \n",
       "1  1.538780e-13  2.257304e-13  3.133745e-13  1.042533e-12  3.635461e-12  ...   \n",
       "2  2.275951e-14  3.181535e-14  6.414696e-14  2.259836e-13  8.859086e-13  ...   \n",
       "3  3.435657e-14  5.064754e-14  9.114411e-14  3.468690e-13  1.410904e-12  ...   \n",
       "4  6.301525e-14  7.588735e-14  9.633166e-14  2.849964e-13  7.345845e-13  ...   \n",
       "5  9.583618e-14  1.188761e-13  2.158877e-13  4.571295e-13  1.188279e-12  ...   \n",
       "6  3.383763e-13  4.509646e-13  9.317864e-13  2.264361e-12  4.491115e-12  ...   \n",
       "7  1.561049e-14  3.062315e-14  5.043762e-14  2.584618e-13  4.465483e-13  ...   \n",
       "8  9.363082e-14  1.178769e-13  1.558025e-13  4.122533e-13  1.232272e-12  ...   \n",
       "9  8.108217e-14  1.063195e-13  1.866665e-13  7.391415e-13  3.055674e-12  ...   \n",
       "\n",
       "        9991 Hz       9992 Hz       9993 Hz       9994 Hz       9995 Hz  \\\n",
       "0  1.470507e-06  1.227576e-06  8.681997e-07  6.773161e-07  3.666906e-07   \n",
       "1  1.396176e-06  2.875137e-06  1.420636e-06  1.391422e-06  1.892279e-06   \n",
       "2  6.257802e-08  9.304342e-08  6.333435e-08  2.357872e-07  4.400379e-07   \n",
       "3  4.884777e-07  4.677642e-07  2.229568e-06  3.888228e-06  1.698461e-05   \n",
       "4  5.531142e-07  2.072130e-06  4.804855e-06  3.355894e-05  6.870571e-05   \n",
       "5  5.749289e-07  1.237595e-06  2.035427e-06  3.650389e-06  2.307347e-06   \n",
       "6  6.412776e-06  4.315448e-06  1.264098e-05  3.491533e-06  5.281232e-07   \n",
       "7  1.000111e-07  1.580460e-07  6.672723e-08  1.164466e-07  1.556111e-07   \n",
       "8  4.829257e-07  5.904012e-07  6.122929e-07  3.724896e-07  5.890676e-07   \n",
       "9  7.710664e-07  6.492042e-07  8.085241e-07  5.665101e-07  1.844271e-06   \n",
       "\n",
       "        9996 Hz       9997 Hz       9998 Hz       9999 Hz      10000 Hz  \n",
       "0  1.733466e-07  4.257153e-07  1.146287e-06  2.315876e-06  8.365001e-06  \n",
       "1  3.798289e-06  3.971005e-06  3.528786e-06  1.125920e-05  8.634675e-05  \n",
       "2  2.393002e-06  3.405056e-06  9.397469e-07  2.325818e-06  1.280774e-06  \n",
       "3  1.836729e-05  4.214171e-06  1.012343e-05  3.617143e-06  6.269778e-07  \n",
       "4  5.572402e-05  4.573358e-05  8.669402e-06  7.253392e-06  2.876429e-06  \n",
       "5  1.587144e-06  1.847724e-06  2.877964e-06  1.431568e-06  8.458068e-07  \n",
       "6  6.817123e-07  5.579179e-07  8.248013e-07  3.683016e-07  6.676920e-07  \n",
       "7  1.806838e-07  3.742918e-07  9.549482e-07  6.392315e-06  1.158501e-05  \n",
       "8  1.067424e-06  5.973574e-06  1.412959e-05  2.751901e-05  1.315984e-05  \n",
       "9  5.445187e-06  4.123601e-05  6.119383e-05  2.029021e-05  3.086149e-05  \n",
       "\n",
       "[10 rows x 10001 columns]"
      ]
     },
     "execution_count": 5,
     "metadata": {},
     "output_type": "execute_result"
    }
   ],
   "source": [
    "spectrum = data.loc[:,'0 Hz':]\n",
    "spectrum"
   ]
  },
  {
   "cell_type": "code",
   "execution_count": 6,
   "metadata": {
    "ExecuteTime": {
     "end_time": "2020-10-20T01:13:26.211635Z",
     "start_time": "2020-10-20T01:13:26.206940Z"
    }
   },
   "outputs": [
    {
     "data": {
      "text/plain": [
       "array([[3.337466e-15, 6.813422e-15, 7.246523e-15, ..., 1.146287e-06,\n",
       "        2.315876e-06, 8.365001e-06],\n",
       "       [3.518254e-14, 7.266183e-14, 7.994039e-14, ..., 3.528786e-06,\n",
       "        1.125920e-05, 8.634675e-05],\n",
       "       [3.963802e-15, 8.343728e-15, 9.659595e-15, ..., 9.397469e-07,\n",
       "        2.325818e-06, 1.280774e-06],\n",
       "       ...,\n",
       "       [2.524975e-15, 5.348803e-15, 6.297586e-15, ..., 9.549482e-07,\n",
       "        6.392315e-06, 1.158501e-05],\n",
       "       [2.519073e-14, 5.163043e-14, 5.555720e-14, ..., 1.412959e-05,\n",
       "        2.751901e-05, 1.315984e-05],\n",
       "       [1.464507e-14, 3.071371e-14, 3.522177e-14, ..., 6.119383e-05,\n",
       "        2.029021e-05, 3.086149e-05]])"
      ]
     },
     "execution_count": 6,
     "metadata": {},
     "output_type": "execute_result"
    }
   ],
   "source": [
    "specs = np.array(spectrum)\n",
    "specs"
   ]
  },
  {
   "cell_type": "code",
   "execution_count": 7,
   "metadata": {
    "ExecuteTime": {
     "end_time": "2020-10-20T01:13:29.030865Z",
     "start_time": "2020-10-20T01:13:28.787871Z"
    }
   },
   "outputs": [
    {
     "data": {
      "image/png": "[encoded data removed]",
      "text/plain": [
       "<Figure size 1008x720 with 1 Axes>"
      ]
     },
     "metadata": {
      "needs_background": "light"
     },
     "output_type": "display_data"
    }
   ],
   "source": [
    "plt.rcParams[\"figure.figsize\"] = (14,10)\n",
    "# plt.plot(specs[5])\n",
    "for spec in specs:\n",
    "    plt.plot(spec)\n",
    "plt.show()\n"
   ]
  },
  {
   "cell_type": "code",
   "execution_count": 8,
   "metadata": {
    "ExecuteTime": {
     "end_time": "2020-10-20T01:13:32.266865Z",
     "start_time": "2020-10-20T01:13:31.066270Z"
    }
   },
   "outputs": [
    {
     "data": {
      "image/png": "[encoded data removed]",
      "text/plain": [
       "<Figure size 1152x1080 with 10 Axes>"
      ]
     },
     "metadata": {
      "needs_background": "light"
     },
     "output_type": "display_data"
    }
   ],
   "source": [
    "plt.rcParams[\"figure.figsize\"] = (16,15)\n",
    "for i in range(len(specs)):\n",
    "    plt.subplot(5,2,i+1)\n",
    "    plt.plot(specs[i])\n",
    "plt.show()"
   ]
  },
  {
   "cell_type": "code",
   "execution_count": 9,
   "metadata": {
    "ExecuteTime": {
     "end_time": "2020-10-20T01:13:34.173411Z",
     "start_time": "2020-10-20T01:13:34.170112Z"
    }
   },
   "outputs": [],
   "source": [
    "spec = np.array(spectrum.loc[0])"
   ]
  },
  {
   "cell_type": "code",
   "execution_count": 61,
   "metadata": {
    "ExecuteTime": {
     "end_time": "2020-10-20T03:37:46.869182Z",
     "start_time": "2020-10-20T03:37:46.752501Z"
    }
   },
   "outputs": [
    {
     "data": {
      "image/png": "[encoded data removed]",
      "text/plain": [
       "<Figure size 144x144 with 1 Axes>"
      ]
     },
     "metadata": {
      "needs_background": "light"
     },
     "output_type": "display_data"
    }
   ],
   "source": [
    "plt.rcParams[\"figure.figsize\"] = (2,2)\n",
    "# plt.subplot(1,1,1)\n",
    "plt.specgram(list(spec), NFFT=10000, Fs=10, noverlap=5, detrend='mean', mode='psd')\n",
    "# plt.specgram(list(spec), Fs=100)\n",
    "plt.xlabel('time')\n",
    "plt.ylabel('frequency')\n",
    "\n",
    "plt.show()"
   ]
  },
  {
   "cell_type": "code",
   "execution_count": 57,
   "metadata": {
    "ExecuteTime": {
     "end_time": "2020-10-20T02:34:14.953258Z",
     "start_time": "2020-10-20T02:34:14.949192Z"
    }
   },
   "outputs": [
    {
     "data": {
      "text/plain": [
       "array([3.337466e-15, 6.813422e-15, 7.246523e-15, ..., 1.146287e-06,\n",
       "       2.315876e-06, 8.365001e-06])"
      ]
     },
     "execution_count": 57,
     "metadata": {},
     "output_type": "execute_result"
    }
   ],
   "source": [
    "spec"
   ]
  },
  {
   "cell_type": "code",
   "execution_count": 58,
   "metadata": {
    "ExecuteTime": {
     "end_time": "2020-10-20T02:34:16.009733Z",
     "start_time": "2020-10-20T02:34:16.003694Z"
    }
   },
   "outputs": [
    {
     "data": {
      "text/plain": [
       "<Figure size 144x144 with 0 Axes>"
      ]
     },
     "metadata": {},
     "output_type": "display_data"
    }
   ],
   "source": [
    "def figure_to_array(fig):\n",
    "    \"\"\"\n",
    "    plt.figure를 RGBA로 변환(layer가 4개)\n",
    "    shape: height, width, layer\n",
    "    \"\"\"\n",
    "    fig.canvas.draw()\n",
    "    return np.array(fig.canvas.renderer._renderer)\n",
    "f = plt.figure()\n",
    "ar = figure_to_array(f)"
   ]
  },
  {
   "cell_type": "code",
   "execution_count": 59,
   "metadata": {
    "ExecuteTime": {
     "end_time": "2020-10-20T02:34:17.833174Z",
     "start_time": "2020-10-20T02:34:17.829129Z"
    }
   },
   "outputs": [
    {
     "data": {
      "text/plain": [
       "82944"
      ]
     },
     "execution_count": 59,
     "metadata": {},
     "output_type": "execute_result"
    }
   ],
   "source": [
    "ar.size"
   ]
  },
  {
   "cell_type": "code",
   "execution_count": 55,
   "metadata": {
    "ExecuteTime": {
     "end_time": "2020-10-20T02:27:57.838122Z",
     "start_time": "2020-10-20T02:27:57.834018Z"
    }
   },
   "outputs": [
    {
     "data": {
      "text/plain": [
       "36"
      ]
     },
     "execution_count": 55,
     "metadata": {},
     "output_type": "execute_result"
    }
   ],
   "source": [
    "len(ar)"
   ]
  },
  {
   "cell_type": "code",
   "execution_count": 15,
   "metadata": {
    "ExecuteTime": {
     "end_time": "2020-10-20T01:37:41.560607Z",
     "start_time": "2020-10-20T01:37:40.507824Z"
    }
   },
   "outputs": [
    {
     "data": {
      "image/png": "[encoded data removed]",
      "text/plain": [
       "<Figure size 720x720 with 10 Axes>"
      ]
     },
     "metadata": {
      "needs_background": "light"
     },
     "output_type": "display_data"
    }
   ],
   "source": [
    "plt.rcParams[\"figure.figsize\"] = (10,10)\n",
    "for i in range(len(specs)):\n",
    "    plt.subplot(2,5,i+1)\n",
    "#     plt.specgram(list(specs[i]), NFFT=10000, Fs=10, noverlap=5, detrend='mean', mode='psd')\n",
    "    plt.specgram(list(specs[i]), NFFT=10000, Fs=10, noverlap=5)\n",
    "    # plt.specgram(list(spec), Fs=100)\n",
    "    plt.xlabel('time')\n",
    "    plt.ylabel('frequency')\n",
    "\n",
    "plt.show()"
   ]
  },
  {
   "cell_type": "code",
   "execution_count": null,
   "metadata": {},
   "outputs": [],
   "source": []
  },
  {
   "cell_type": "code",
   "execution_count": null,
   "metadata": {},
   "outputs": [],
   "source": [
    "import dask.dataframe as dd\n",
    "\n",
    "from dask.diagnostics import ProgressBar\n",
    "\n",
    "data = dd.read_csv('/Users/peter/Downloads/lg_train/201912_FLD165NBMA_vib_spectrum_modi_train.txt', sep= '\\t')\n",
    "\n",
    "pbar = ProgressBar()\n",
    "pbar.register()\n"
   ]
  },
  {
   "cell_type": "code",
   "execution_count": null,
   "metadata": {},
   "outputs": [],
   "source": [
    "data.shape"
   ]
  },
  {
   "cell_type": "code",
   "execution_count": null,
   "metadata": {},
   "outputs": [],
   "source": [
    "data.shape[0].compute()"
   ]
  },
  {
   "cell_type": "code",
   "execution_count": null,
   "metadata": {},
   "outputs": [],
   "source": [
    "ng = data[\"label\"] == 1\n",
    "data_ng = data[ng]"
   ]
  },
  {
   "cell_type": "code",
   "execution_count": null,
   "metadata": {},
   "outputs": [],
   "source": [
    "data.loc[:,'0 Hz':'10000 Hz']"
   ]
  },
  {
   "cell_type": "code",
   "execution_count": null,
   "metadata": {},
   "outputs": [],
   "source": [
    "data.head(10)"
   ]
  },
  {
   "cell_type": "code",
   "execution_count": null,
   "metadata": {},
   "outputs": [],
   "source": [
    "data.count().compute()"
   ]
  },
  {
   "cell_type": "code",
   "execution_count": null,
   "metadata": {},
   "outputs": [],
   "source": [
    "import numpy as np\n",
    "\n",
    "data = np.loadtxt('/Users/peter/Downloads/lg_train/201912_FLD165NBMA_vib_spectrum_modi_train.txt',\n",
    "                  delimiter='\\t', skiprows=1, usecols=np.arange(4,10004))\n",
    "\n",
    "print(len(data), data[0])\n",
    "print(len(data[0]))"
   ]
  },
  {
   "cell_type": "code",
   "execution_count": null,
   "metadata": {},
   "outputs": [],
   "source": [
    "len(data)"
   ]
  },
  {
   "cell_type": "code",
   "execution_count": null,
   "metadata": {},
   "outputs": [],
   "source": [
    "data.shape"
   ]
  },
  {
   "cell_type": "code",
   "execution_count": null,
   "metadata": {},
   "outputs": [],
   "source": [
    "type(data)"
   ]
  },
  {
   "cell_type": "code",
   "execution_count": null,
   "metadata": {},
   "outputs": [],
   "source": [
    "# f= open(\"/Users/peter/Downloads/lg_train/201912_FLD165NBMA_vib_spectrum_modi_train.txt\", mode='r')\n",
    "\n",
    "d = pd.DataFrame(data)"
   ]
  },
  {
   "cell_type": "code",
   "execution_count": null,
   "metadata": {},
   "outputs": [],
   "source": [
    "type(d)"
   ]
  },
  {
   "cell_type": "code",
   "execution_count": null,
   "metadata": {},
   "outputs": [],
   "source": [
    "d"
   ]
  },
  {
   "cell_type": "code",
   "execution_count": null,
   "metadata": {},
   "outputs": [],
   "source": [
    "data_pandas = pd.read_csv(\"/Users/peter/Downloads/lg_train/201912_FLD165NBMA_vib_spectrum_modi_train.txt\", sep= '\\t', chunksize=5)\n",
    "\n",
    "\n",
    "\n",
    "\n",
    "\n"
   ]
  },
  {
   "cell_type": "code",
   "execution_count": null,
   "metadata": {},
   "outputs": [],
   "source": [
    "display(data_pandas)"
   ]
  },
  {
   "cell_type": "code",
   "execution_count": null,
   "metadata": {},
   "outputs": [],
   "source": [
    "f = \"/Users/peter/Downloads/lg_train/201912_FLD165NBMA_vib_spectrum_modi_train.txt\"\n",
    "for chunk in pd.read_csv(f, sep= '\\t', chunksize=4000):\n",
    "    display(chunk)"
   ]
  },
  {
   "cell_type": "code",
   "execution_count": null,
   "metadata": {},
   "outputs": [],
   "source": [
    "for data in data_pandas:\n",
    "    display(data)"
   ]
  },
  {
   "cell_type": "code",
   "execution_count": 1,
   "metadata": {
    "ExecuteTime": {
     "end_time": "2020-10-20T01:12:01.452404Z",
     "start_time": "2020-10-20T01:12:01.100826Z"
    }
   },
   "outputs": [],
   "source": [
    "from spectrogram import Spectrogram"
   ]
  },
  {
   "cell_type": "code",
   "execution_count": 2,
   "metadata": {
    "ExecuteTime": {
     "end_time": "2020-10-20T01:13:09.348044Z",
     "start_time": "2020-10-20T01:12:02.991186Z"
    }
   },
   "outputs": [
    {
     "ename": "KeyboardInterrupt",
     "evalue": "",
     "output_type": "error",
     "traceback": [
      "\u001b[0;31m---------------------------------------------------------------------------\u001b[0m",
      "\u001b[0;31mKeyboardInterrupt\u001b[0m                         Traceback (most recent call last)",
      "\u001b[0;32m<ipython-input-2-ca2620f309ab>\u001b[0m in \u001b[0;36m<module>\u001b[0;34m\u001b[0m\n\u001b[1;32m      1\u001b[0m \u001b[0msp\u001b[0m \u001b[0;34m=\u001b[0m \u001b[0mSpectrogram\u001b[0m\u001b[0;34m(\u001b[0m\u001b[0;34m)\u001b[0m\u001b[0;34m\u001b[0m\u001b[0;34m\u001b[0m\u001b[0m\n\u001b[0;32m----> 2\u001b[0;31m \u001b[0md\u001b[0m \u001b[0;34m=\u001b[0m \u001b[0msp\u001b[0m\u001b[0;34m.\u001b[0m\u001b[0mpreprocessing\u001b[0m\u001b[0;34m(\u001b[0m\u001b[0;34m\"../lg_train/201912_FLD165NBMA_vib_spectrum_modi_train.txt\"\u001b[0m\u001b[0;34m)\u001b[0m\u001b[0;34m\u001b[0m\u001b[0;34m\u001b[0m\u001b[0m\n\u001b[0m\u001b[1;32m      3\u001b[0m \u001b[0msp\u001b[0m\u001b[0;34m.\u001b[0m\u001b[0mgraph\u001b[0m\u001b[0;34m(\u001b[0m\u001b[0md\u001b[0m\u001b[0;34m)\u001b[0m\u001b[0;34m\u001b[0m\u001b[0;34m\u001b[0m\u001b[0m\n",
      "\u001b[0;32m/workspace/nvh/spectrogram.py\u001b[0m in \u001b[0;36mpreprocessing\u001b[0;34m(self, filename)\u001b[0m\n\u001b[1;32m      9\u001b[0m \u001b[0;34m\u001b[0m\u001b[0m\n\u001b[1;32m     10\u001b[0m     \u001b[0;32mdef\u001b[0m \u001b[0mpreprocessing\u001b[0m\u001b[0;34m(\u001b[0m\u001b[0mself\u001b[0m\u001b[0;34m,\u001b[0m \u001b[0mfilename\u001b[0m\u001b[0;34m)\u001b[0m\u001b[0;34m:\u001b[0m\u001b[0;34m\u001b[0m\u001b[0;34m\u001b[0m\u001b[0m\n\u001b[0;32m---> 11\u001b[0;31m         \u001b[0mdata\u001b[0m \u001b[0;34m=\u001b[0m \u001b[0mpd\u001b[0m\u001b[0;34m.\u001b[0m\u001b[0mread_csv\u001b[0m\u001b[0;34m(\u001b[0m\u001b[0mfilename\u001b[0m\u001b[0;34m,\u001b[0m \u001b[0msep\u001b[0m\u001b[0;34m=\u001b[0m\u001b[0;34m'\\t'\u001b[0m\u001b[0;34m)\u001b[0m\u001b[0;34m\u001b[0m\u001b[0;34m\u001b[0m\u001b[0m\n\u001b[0m\u001b[1;32m     12\u001b[0m         \u001b[0mspectrum\u001b[0m \u001b[0;34m=\u001b[0m \u001b[0mdata\u001b[0m\u001b[0;34m.\u001b[0m\u001b[0mloc\u001b[0m\u001b[0;34m[\u001b[0m\u001b[0;34m:\u001b[0m\u001b[0;34m,\u001b[0m \u001b[0;34m'0 Hz'\u001b[0m\u001b[0;34m:\u001b[0m\u001b[0;34m'10000 Hz'\u001b[0m\u001b[0;34m]\u001b[0m\u001b[0;34m\u001b[0m\u001b[0;34m\u001b[0m\u001b[0m\n\u001b[1;32m     13\u001b[0m \u001b[0;34m\u001b[0m\u001b[0m\n",
      "\u001b[0;32m/opt/conda/lib/python3.7/site-packages/pandas/io/parsers.py\u001b[0m in \u001b[0;36mparser_f\u001b[0;34m(filepath_or_buffer, sep, delimiter, header, names, index_col, usecols, squeeze, prefix, mangle_dupe_cols, dtype, engine, converters, true_values, false_values, skipinitialspace, skiprows, skipfooter, nrows, na_values, keep_default_na, na_filter, verbose, skip_blank_lines, parse_dates, infer_datetime_format, keep_date_col, date_parser, dayfirst, cache_dates, iterator, chunksize, compression, thousands, decimal, lineterminator, quotechar, quoting, doublequote, escapechar, comment, encoding, dialect, error_bad_lines, warn_bad_lines, delim_whitespace, low_memory, memory_map, float_precision)\u001b[0m\n\u001b[1;32m    683\u001b[0m         )\n\u001b[1;32m    684\u001b[0m \u001b[0;34m\u001b[0m\u001b[0m\n\u001b[0;32m--> 685\u001b[0;31m         \u001b[0;32mreturn\u001b[0m \u001b[0m_read\u001b[0m\u001b[0;34m(\u001b[0m\u001b[0mfilepath_or_buffer\u001b[0m\u001b[0;34m,\u001b[0m \u001b[0mkwds\u001b[0m\u001b[0;34m)\u001b[0m\u001b[0;34m\u001b[0m\u001b[0;34m\u001b[0m\u001b[0m\n\u001b[0m\u001b[1;32m    686\u001b[0m \u001b[0;34m\u001b[0m\u001b[0m\n\u001b[1;32m    687\u001b[0m     \u001b[0mparser_f\u001b[0m\u001b[0;34m.\u001b[0m\u001b[0m__name__\u001b[0m \u001b[0;34m=\u001b[0m \u001b[0mname\u001b[0m\u001b[0;34m\u001b[0m\u001b[0;34m\u001b[0m\u001b[0m\n",
      "\u001b[0;32m/opt/conda/lib/python3.7/site-packages/pandas/io/parsers.py\u001b[0m in \u001b[0;36m_read\u001b[0;34m(filepath_or_buffer, kwds)\u001b[0m\n\u001b[1;32m    461\u001b[0m \u001b[0;34m\u001b[0m\u001b[0m\n\u001b[1;32m    462\u001b[0m     \u001b[0;32mtry\u001b[0m\u001b[0;34m:\u001b[0m\u001b[0;34m\u001b[0m\u001b[0;34m\u001b[0m\u001b[0m\n\u001b[0;32m--> 463\u001b[0;31m         \u001b[0mdata\u001b[0m \u001b[0;34m=\u001b[0m \u001b[0mparser\u001b[0m\u001b[0;34m.\u001b[0m\u001b[0mread\u001b[0m\u001b[0;34m(\u001b[0m\u001b[0mnrows\u001b[0m\u001b[0;34m)\u001b[0m\u001b[0;34m\u001b[0m\u001b[0;34m\u001b[0m\u001b[0m\n\u001b[0m\u001b[1;32m    464\u001b[0m     \u001b[0;32mfinally\u001b[0m\u001b[0;34m:\u001b[0m\u001b[0;34m\u001b[0m\u001b[0;34m\u001b[0m\u001b[0m\n\u001b[1;32m    465\u001b[0m         \u001b[0mparser\u001b[0m\u001b[0;34m.\u001b[0m\u001b[0mclose\u001b[0m\u001b[0;34m(\u001b[0m\u001b[0;34m)\u001b[0m\u001b[0;34m\u001b[0m\u001b[0;34m\u001b[0m\u001b[0m\n",
      "\u001b[0;32m/opt/conda/lib/python3.7/site-packages/pandas/io/parsers.py\u001b[0m in \u001b[0;36mread\u001b[0;34m(self, nrows)\u001b[0m\n\u001b[1;32m   1152\u001b[0m     \u001b[0;32mdef\u001b[0m \u001b[0mread\u001b[0m\u001b[0;34m(\u001b[0m\u001b[0mself\u001b[0m\u001b[0;34m,\u001b[0m \u001b[0mnrows\u001b[0m\u001b[0;34m=\u001b[0m\u001b[0;32mNone\u001b[0m\u001b[0;34m)\u001b[0m\u001b[0;34m:\u001b[0m\u001b[0;34m\u001b[0m\u001b[0;34m\u001b[0m\u001b[0m\n\u001b[1;32m   1153\u001b[0m         \u001b[0mnrows\u001b[0m \u001b[0;34m=\u001b[0m \u001b[0m_validate_integer\u001b[0m\u001b[0;34m(\u001b[0m\u001b[0;34m\"nrows\"\u001b[0m\u001b[0;34m,\u001b[0m \u001b[0mnrows\u001b[0m\u001b[0;34m)\u001b[0m\u001b[0;34m\u001b[0m\u001b[0;34m\u001b[0m\u001b[0m\n\u001b[0;32m-> 1154\u001b[0;31m         \u001b[0mret\u001b[0m \u001b[0;34m=\u001b[0m \u001b[0mself\u001b[0m\u001b[0;34m.\u001b[0m\u001b[0m_engine\u001b[0m\u001b[0;34m.\u001b[0m\u001b[0mread\u001b[0m\u001b[0;34m(\u001b[0m\u001b[0mnrows\u001b[0m\u001b[0;34m)\u001b[0m\u001b[0;34m\u001b[0m\u001b[0;34m\u001b[0m\u001b[0m\n\u001b[0m\u001b[1;32m   1155\u001b[0m \u001b[0;34m\u001b[0m\u001b[0m\n\u001b[1;32m   1156\u001b[0m         \u001b[0;31m# May alter columns / col_dict\u001b[0m\u001b[0;34m\u001b[0m\u001b[0;34m\u001b[0m\u001b[0;34m\u001b[0m\u001b[0m\n",
      "\u001b[0;32m/opt/conda/lib/python3.7/site-packages/pandas/io/parsers.py\u001b[0m in \u001b[0;36mread\u001b[0;34m(self, nrows)\u001b[0m\n\u001b[1;32m   2057\u001b[0m     \u001b[0;32mdef\u001b[0m \u001b[0mread\u001b[0m\u001b[0;34m(\u001b[0m\u001b[0mself\u001b[0m\u001b[0;34m,\u001b[0m \u001b[0mnrows\u001b[0m\u001b[0;34m=\u001b[0m\u001b[0;32mNone\u001b[0m\u001b[0;34m)\u001b[0m\u001b[0;34m:\u001b[0m\u001b[0;34m\u001b[0m\u001b[0;34m\u001b[0m\u001b[0m\n\u001b[1;32m   2058\u001b[0m         \u001b[0;32mtry\u001b[0m\u001b[0;34m:\u001b[0m\u001b[0;34m\u001b[0m\u001b[0;34m\u001b[0m\u001b[0m\n\u001b[0;32m-> 2059\u001b[0;31m             \u001b[0mdata\u001b[0m \u001b[0;34m=\u001b[0m \u001b[0mself\u001b[0m\u001b[0;34m.\u001b[0m\u001b[0m_reader\u001b[0m\u001b[0;34m.\u001b[0m\u001b[0mread\u001b[0m\u001b[0;34m(\u001b[0m\u001b[0mnrows\u001b[0m\u001b[0;34m)\u001b[0m\u001b[0;34m\u001b[0m\u001b[0;34m\u001b[0m\u001b[0m\n\u001b[0m\u001b[1;32m   2060\u001b[0m         \u001b[0;32mexcept\u001b[0m \u001b[0mStopIteration\u001b[0m\u001b[0;34m:\u001b[0m\u001b[0;34m\u001b[0m\u001b[0;34m\u001b[0m\u001b[0m\n\u001b[1;32m   2061\u001b[0m             \u001b[0;32mif\u001b[0m \u001b[0mself\u001b[0m\u001b[0;34m.\u001b[0m\u001b[0m_first_chunk\u001b[0m\u001b[0;34m:\u001b[0m\u001b[0;34m\u001b[0m\u001b[0;34m\u001b[0m\u001b[0m\n",
      "\u001b[0;32mpandas/_libs/parsers.pyx\u001b[0m in \u001b[0;36mpandas._libs.parsers.TextReader.read\u001b[0;34m()\u001b[0m\n",
      "\u001b[0;32mpandas/_libs/parsers.pyx\u001b[0m in \u001b[0;36mpandas._libs.parsers.TextReader._read_low_memory\u001b[0;34m()\u001b[0m\n",
      "\u001b[0;32mpandas/_libs/parsers.pyx\u001b[0m in \u001b[0;36mpandas._libs.parsers.TextReader._read_rows\u001b[0;34m()\u001b[0m\n",
      "\u001b[0;32mpandas/_libs/parsers.pyx\u001b[0m in \u001b[0;36mpandas._libs.parsers.TextReader._convert_column_data\u001b[0;34m()\u001b[0m\n",
      "\u001b[0;32mpandas/_libs/parsers.pyx\u001b[0m in \u001b[0;36mpandas._libs.parsers.TextReader._convert_tokens\u001b[0;34m()\u001b[0m\n",
      "\u001b[0;32mpandas/_libs/parsers.pyx\u001b[0m in \u001b[0;36mpandas._libs.parsers.TextReader._convert_with_dtype\u001b[0;34m()\u001b[0m\n",
      "\u001b[0;32m/opt/conda/lib/python3.7/site-packages/pandas/core/dtypes/common.py\u001b[0m in \u001b[0;36mis_categorical_dtype\u001b[0;34m(arr_or_dtype)\u001b[0m\n\u001b[1;32m    676\u001b[0m \u001b[0;34m\u001b[0m\u001b[0m\n\u001b[1;32m    677\u001b[0m \u001b[0;34m\u001b[0m\u001b[0m\n\u001b[0;32m--> 678\u001b[0;31m \u001b[0;32mdef\u001b[0m \u001b[0mis_categorical_dtype\u001b[0m\u001b[0;34m(\u001b[0m\u001b[0marr_or_dtype\u001b[0m\u001b[0;34m)\u001b[0m\u001b[0;34m:\u001b[0m\u001b[0;34m\u001b[0m\u001b[0;34m\u001b[0m\u001b[0m\n\u001b[0m\u001b[1;32m    679\u001b[0m     \"\"\"\n\u001b[1;32m    680\u001b[0m     \u001b[0mCheck\u001b[0m \u001b[0mwhether\u001b[0m \u001b[0man\u001b[0m \u001b[0marray\u001b[0m\u001b[0;34m-\u001b[0m\u001b[0mlike\u001b[0m \u001b[0;32mor\u001b[0m \u001b[0mdtype\u001b[0m \u001b[0;32mis\u001b[0m \u001b[0mof\u001b[0m \u001b[0mthe\u001b[0m \u001b[0mCategorical\u001b[0m \u001b[0mdtype\u001b[0m\u001b[0;34m.\u001b[0m\u001b[0;34m\u001b[0m\u001b[0;34m\u001b[0m\u001b[0m\n",
      "\u001b[0;31mKeyboardInterrupt\u001b[0m: "
     ]
    }
   ],
   "source": [
    "sp = Spectrogram()\n",
    "d = sp.preprocessing(\"../lg_train/201912_FLD165NBMA_vib_spectrum_modi_train.txt\")\n",
    "sp.graph(d)"
   ]
  },
  {
   "cell_type": "code",
   "execution_count": null,
   "metadata": {},
   "outputs": [],
   "source": []
  }
 ],
 "metadata": {
  "kernelspec": {
   "display_name": "Python 3",
   "language": "python",
   "name": "python3"
  },
  "language_info": {
   "codemirror_mode": {
    "name": "ipython",
    "version": 3
   },
   "file_extension": ".py",
   "mimetype": "text/x-python",
   "name": "python",
   "nbconvert_exporter": "python",
   "pygments_lexer": "ipython3",
   "version": "3.7.6"
  },
  "toc": {
   "base_numbering": 1,
   "nav_menu": {},
   "number_sections": false,
   "sideBar": true,
   "skip_h1_title": false,
   "title_cell": "Table of Contents",
   "title_sidebar": "Contents",
   "toc_cell": false,
   "toc_position": {},
   "toc_section_display": true,
   "toc_window_display": false
  }
 },
 "nbformat": 4,
 "nbformat_minor": 4
}
