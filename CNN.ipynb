{
 "cells": [
  {
   "cell_type": "code",
   "execution_count": 1,
   "metadata": {
    "ExecuteTime": {
     "end_time": "2020-10-23T11:42:35.090493Z",
     "start_time": "2020-10-23T11:42:34.587657Z"
    }
   },
   "outputs": [],
   "source": [
    "import pandas as pd\n",
    "import numpy as np\n",
    "from matplotlib import pyplot as plt\n",
    "from sklearn.model_selection import train_test_split"
   ]
  },
  {
   "cell_type": "code",
   "execution_count": 2,
   "metadata": {
    "ExecuteTime": {
     "end_time": "2020-10-23T11:42:36.297271Z",
     "start_time": "2020-10-23T11:42:35.092349Z"
    }
   },
   "outputs": [],
   "source": [
    "import itertools\n",
    "\n",
    "import torch \n",
    "import torch.nn as nn\n",
    "import torch.nn.functional as F\n",
    "import torch.optim as optim\n",
    "from torchvision import datasets, transforms\n",
    "\n",
    "from IPython.display import Image\n",
    "from IPython import display\n",
    "import matplotlib.pyplot as plt\n"
   ]
  },
  {
   "cell_type": "markdown",
   "metadata": {},
   "source": [
    "# 1. Preprocessing"
   ]
  },
  {
   "cell_type": "markdown",
   "metadata": {},
   "source": [
    "### read by f.readline()"
   ]
  },
  {
   "cell_type": "code",
   "execution_count": 3,
   "metadata": {
    "ExecuteTime": {
     "end_time": "2020-10-23T11:42:42.913271Z",
     "start_time": "2020-10-23T11:42:42.793806Z"
    }
   },
   "outputs": [],
   "source": [
    "datas = []\n",
    "file = \"./sample_data.txt\"\n",
    "with open(file, \"r\") as f:\n",
    "    header = f.readline()\n",
    "    while 1:\n",
    "        line = f.readline()\n",
    "        if not line:\n",
    "            break\n",
    "        tmp = line.strip().split('\\t')\n",
    "        freq = list(map(float, tmp[4:]))\n",
    "        label = int(tmp[0])\n",
    "#         label = tmp[0\n",
    "\n",
    "        datas.append([freq,label])\n",
    "\n",
    "# data = np.array(data)\n",
    "\n",
    "# X = data[:, 1:]\n",
    "# y = np.int32(data[:, 0])\n"
   ]
  },
  {
   "cell_type": "code",
   "execution_count": 23,
   "metadata": {
    "ExecuteTime": {
     "end_time": "2020-10-23T10:26:47.026085Z",
     "start_time": "2020-10-23T10:26:47.021214Z"
    }
   },
   "outputs": [
    {
     "data": {
      "text/plain": [
       "10"
      ]
     },
     "execution_count": 23,
     "metadata": {},
     "output_type": "execute_result"
    }
   ],
   "source": [
    "len(datas)"
   ]
  },
  {
   "cell_type": "markdown",
   "metadata": {},
   "source": [
    "# 2. Spectrogram"
   ]
  },
  {
   "cell_type": "code",
   "execution_count": 4,
   "metadata": {
    "ExecuteTime": {
     "end_time": "2020-10-23T11:42:47.520670Z",
     "start_time": "2020-10-23T11:42:46.888331Z"
    }
   },
   "outputs": [
    {
     "data": {
      "image/png": "[encoded data removed]",
      "text/plain": [
       "<Figure size 144x144 with 1 Axes>"
      ]
     },
     "metadata": {
      "needs_background": "light"
     },
     "output_type": "display_data"
    }
   ],
   "source": [
    "# test로 spectrogram 생성\n",
    "plt.rcParams[\"figure.figsize\"] = (2,2)\n",
    "# plt.specgram(list(specs[15]), NFFT=10000, Fs=10, noverlap=5, detrend='mean', mode='psd')\n",
    "plt.specgram(list(datas[0][0]), NFFT=10000, Fs=10, noverlap=5, detrend='mean', mode='psd')\n",
    "plt.xlabel('time')\n",
    "plt.ylabel('frequency')\n",
    "plt.show()"
   ]
  },
  {
   "cell_type": "code",
   "execution_count": 5,
   "metadata": {
    "ExecuteTime": {
     "end_time": "2020-10-23T11:42:52.753820Z",
     "start_time": "2020-10-23T11:42:52.747416Z"
    }
   },
   "outputs": [],
   "source": [
    "# Input : numpy array\n",
    "# Output : spectrogram numpy array\n",
    "\n",
    "def spec_array(arr):\n",
    "    plt.rcParams[\"figure.figsize\"] = (3.1,3.1)\n",
    "    plt.axis('off') # \"invisable\" axis in plot\n",
    "    plt.xticks([]), plt.yticks([])\n",
    "    plt.use_sticky_edges = True\n",
    "    plt.margins(0)\n",
    "    plt.specgram(list(arr), NFFT=10000, Fs=10, noverlap=5, detrend='mean', mode='psd')\n",
    "    fig = plt.figure(1, tight_layout=True)\n",
    "    fig.canvas.draw()\n",
    "    fig.tight_layout(pad=0)\n",
    "#     plt.close()\n",
    "    \n",
    "    # Now we can save it to a numpy array.\n",
    "    data = np.fromstring(fig.canvas.tostring_rgb(), dtype=np.uint8, sep='')\n",
    "    data = data.reshape((3,) + fig.canvas.get_width_height()[::-1])\n",
    "#     return np.array(fig.canvas.renderer._renderer)\n",
    "    return data\n",
    "    "
   ]
  },
  {
   "cell_type": "code",
   "execution_count": 6,
   "metadata": {
    "ExecuteTime": {
     "end_time": "2020-10-23T11:42:53.357293Z",
     "start_time": "2020-10-23T11:42:53.122297Z"
    }
   },
   "outputs": [
    {
     "name": "stderr",
     "output_type": "stream",
     "text": [
      "/opt/conda/lib/python3.7/site-packages/ipykernel_launcher.py:17: DeprecationWarning: The binary mode of fromstring is deprecated, as it behaves surprisingly on unicode inputs. Use frombuffer instead\n"
     ]
    },
    {
     "data": {
      "image/png": "[encoded data removed]",
      "text/plain": [
       "<Figure size 223.2x223.2 with 1 Axes>"
      ]
     },
     "metadata": {},
     "output_type": "display_data"
    }
   ],
   "source": [
    "# spec_arr = spec_array(specs[0])\n",
    "spec = spec_array(datas[0][0])\n",
    "# spec_arr"
   ]
  },
  {
   "cell_type": "code",
   "execution_count": 7,
   "metadata": {
    "ExecuteTime": {
     "end_time": "2020-10-23T11:42:55.588945Z",
     "start_time": "2020-10-23T11:42:55.584990Z"
    }
   },
   "outputs": [
    {
     "data": {
      "text/plain": [
       "(3, 223, 223)"
      ]
     },
     "execution_count": 7,
     "metadata": {},
     "output_type": "execute_result"
    }
   ],
   "source": [
    "spec.shape"
   ]
  },
  {
   "cell_type": "code",
   "execution_count": 4,
   "metadata": {
    "ExecuteTime": {
     "end_time": "2020-10-23T11:36:47.621556Z",
     "start_time": "2020-10-23T11:36:47.384519Z"
    }
   },
   "outputs": [
    {
     "data": {
      "text/plain": [
       "(3, 161, 161)"
      ]
     },
     "execution_count": 4,
     "metadata": {},
     "output_type": "execute_result"
    },
    {
     "data": {
      "image/png": "[encoded data removed]",
      "text/plain": [
       "<Figure size 161.28x161.28 with 1 Axes>"
      ]
     },
     "metadata": {},
     "output_type": "display_data"
    }
   ],
   "source": [
    "from spectrogram import Spectrogram\n",
    "\n",
    "sp1 = Spectrogram()\n",
    "spar = sp1.spec_array(datas[0][0])\n",
    "spar.shape"
   ]
  },
  {
   "cell_type": "code",
   "execution_count": 9,
   "metadata": {
    "ExecuteTime": {
     "end_time": "2020-10-22T07:31:50.425636Z",
     "start_time": "2020-10-22T07:31:50.416954Z"
    }
   },
   "outputs": [
    {
     "name": "stdout",
     "output_type": "stream",
     "text": [
      "144\n",
      "144\n",
      "144\n",
      "144\n",
      "144\n"
     ]
    }
   ],
   "source": [
    "print(len(spec))\n",
    "print(len(spec[0]))\n",
    "print(len(spec[1]))\n",
    "print(len(spec[2]))\n",
    "print(len(spec[3]))"
   ]
  },
  {
   "cell_type": "code",
   "execution_count": 17,
   "metadata": {
    "ExecuteTime": {
     "end_time": "2020-10-22T09:45:58.296559Z",
     "start_time": "2020-10-22T09:45:58.255910Z"
    }
   },
   "outputs": [
    {
     "name": "stderr",
     "output_type": "stream",
     "text": [
      "/opt/conda/lib/python3.7/site-packages/ipykernel_launcher.py:17: DeprecationWarning: The binary mode of fromstring is deprecated, as it behaves surprisingly on unicode inputs. Use frombuffer instead\n"
     ]
    },
    {
     "data": {
      "image/png": "[encoded data removed]",
      "text/plain": [
       "<Figure size 144x144 with 1 Axes>"
      ]
     },
     "metadata": {},
     "output_type": "display_data"
    }
   ],
   "source": [
    "spec = spec_array(datas[2][0])"
   ]
  },
  {
   "cell_type": "code",
   "execution_count": 18,
   "metadata": {
    "ExecuteTime": {
     "end_time": "2020-10-22T09:46:00.957848Z",
     "start_time": "2020-10-22T09:46:00.953261Z"
    }
   },
   "outputs": [
    {
     "name": "stdout",
     "output_type": "stream",
     "text": [
      "144\n",
      "144\n",
      "144\n",
      "144\n",
      "144\n",
      "144\n"
     ]
    }
   ],
   "source": [
    "print(len(spec))\n",
    "print(len(spec[0]))\n",
    "print(len(spec[1]))\n",
    "print(len(spec[2]))\n",
    "print(len(spec[3]))\n",
    "print(len(spec[143]))"
   ]
  },
  {
   "cell_type": "code",
   "execution_count": 34,
   "metadata": {
    "ExecuteTime": {
     "end_time": "2020-10-22T05:44:00.711873Z",
     "start_time": "2020-10-22T05:44:00.707297Z"
    }
   },
   "outputs": [
    {
     "data": {
      "text/plain": [
       "255"
      ]
     },
     "execution_count": 34,
     "metadata": {},
     "output_type": "execute_result"
    }
   ],
   "source": [
    "spec[0].min()"
   ]
  },
  {
   "cell_type": "code",
   "execution_count": 35,
   "metadata": {
    "ExecuteTime": {
     "end_time": "2020-10-22T05:44:42.978741Z",
     "start_time": "2020-10-22T05:44:42.903823Z"
    }
   },
   "outputs": [
    {
     "name": "stdout",
     "output_type": "stream",
     "text": [
      "[255 255 255]\n",
      "[255 255 255]\n",
      "[255 255 255]\n",
      "[255 255 255]\n",
      "[255 255 255]\n",
      "[255 255 255]\n",
      "[255 255 255]\n",
      "[255 255 255]\n",
      "[255 255 255]\n",
      "[255 255 255]\n",
      "[255 255 255]\n",
      "[255 255 255]\n",
      "[255 255 255]\n",
      "[255 255 255]\n",
      "[255 255 255]\n",
      "[255 255 255]\n",
      "[255 255 255]\n",
      "[255 255 255]\n",
      "[255 255 255]\n",
      "[255 255 255]\n",
      "[255 255 255]\n",
      "[255 255 255]\n",
      "[255 255 255]\n",
      "[255 255 255]\n",
      "[255 255 255]\n",
      "[255 255 255]\n",
      "[255 255 255]\n",
      "[255 255 255]\n",
      "[255 255 255]\n",
      "[255 255 255]\n",
      "[255 255 255]\n",
      "[255 255 255]\n",
      "[255 255 255]\n",
      "[255 255 255]\n",
      "[255 255 255]\n",
      "[255 255 255]\n",
      "[255 255 255]\n",
      "[255 255 255]\n",
      "[255 255 255]\n",
      "[255 255 255]\n",
      "[255 255 255]\n",
      "[255 255 255]\n",
      "[255 255 255]\n",
      "[255 255 255]\n",
      "[255 255 255]\n",
      "[255 255 255]\n",
      "[255 255 255]\n",
      "[255 255 255]\n",
      "[255 255 255]\n",
      "[255 255 255]\n",
      "[255 255 255]\n",
      "[255 255 255]\n",
      "[255 255 255]\n",
      "[255 255 255]\n",
      "[255 255 255]\n",
      "[255 255 255]\n",
      "[255 255 255]\n",
      "[255 255 255]\n",
      "[255 255 255]\n",
      "[255 255 255]\n",
      "[255 255 255]\n",
      "[255 255 255]\n",
      "[255 255 255]\n",
      "[255 255 255]\n",
      "[255 255 255]\n",
      "[255 255 255]\n",
      "[255 255 255]\n",
      "[255 255 255]\n",
      "[255 255 255]\n",
      "[255 255 255]\n",
      "[255 255 255]\n",
      "[255 255 255]\n",
      "[255 255 255]\n",
      "[255 255 255]\n",
      "[255 255 255]\n",
      "[255 255 255]\n",
      "[255 255 255]\n",
      "[255 255 255]\n",
      "[255 255 255]\n",
      "[255 255 255]\n",
      "[255 255 255]\n",
      "[255 255 255]\n",
      "[255 255 255]\n",
      "[255 255 255]\n",
      "[255 255 255]\n",
      "[255 255 255]\n",
      "[255 255 255]\n",
      "[255 255 255]\n",
      "[255 255 255]\n",
      "[255 255 255]\n",
      "[255 255 255]\n",
      "[255 255 255]\n",
      "[255 255 255]\n",
      "[255 255 255]\n",
      "[255 255 255]\n",
      "[255 255 255]\n",
      "[255 255 255]\n",
      "[255 255 255]\n",
      "[255 255 255]\n",
      "[255 255 255]\n",
      "[255 255 255]\n",
      "[255 255 255]\n",
      "[255 255 255]\n",
      "[255 255 255]\n",
      "[255 255 255]\n",
      "[255 255 255]\n",
      "[255 255 255]\n",
      "[255 255 255]\n",
      "[255 255 255]\n",
      "[255 255 255]\n",
      "[255 255 255]\n",
      "[255 255 255]\n",
      "[255 255 255]\n",
      "[255 255 255]\n",
      "[255 255 255]\n",
      "[255 255 255]\n",
      "[255 255 255]\n",
      "[255 255 255]\n",
      "[255 255 255]\n",
      "[255 255 255]\n",
      "[255 255 255]\n",
      "[255 255 255]\n",
      "[255 255 255]\n",
      "[255 255 255]\n",
      "[255 255 255]\n",
      "[255 255 255]\n",
      "[255 255 255]\n",
      "[255 255 255]\n",
      "[255 255 255]\n",
      "[255 255 255]\n",
      "[255 255 255]\n",
      "[255 255 255]\n",
      "[255 255 255]\n",
      "[255 255 255]\n",
      "[255 255 255]\n",
      "[255 255 255]\n",
      "[255 255 255]\n",
      "[255 255 255]\n",
      "[255 255 255]\n",
      "[255 255 255]\n",
      "[255 255 255]\n",
      "[255 255 255]\n",
      "[255 255 255]\n",
      "[255 255 255]\n",
      "[255 255 255]\n",
      "[255 255 255]\n",
      "[255 255 255]\n",
      "[255 255 255]\n",
      "[255 255 255]\n",
      "[255 255 255]\n",
      "[255 255 255]\n",
      "[255 255 255]\n",
      "[255 255 255]\n",
      "[255 255 255]\n",
      "[255 255 255]\n",
      "[255 255 255]\n",
      "[255 255 255]\n",
      "[255 255 255]\n",
      "[255 255 255]\n",
      "[255 255 255]\n",
      "[255 255 255]\n",
      "[255 255 255]\n",
      "[255 255 255]\n",
      "[255 255 255]\n",
      "[255 255 255]\n",
      "[255 255 255]\n",
      "[255 255 255]\n",
      "[255 255 255]\n",
      "[255 255 255]\n",
      "[255 255 255]\n",
      "[255 255 255]\n",
      "[255 255 255]\n",
      "[255 255 255]\n",
      "[255 255 255]\n",
      "[255 255 255]\n",
      "[255 255 255]\n",
      "[255 255 255]\n",
      "[255 255 255]\n",
      "[255 255 255]\n",
      "[255 255 255]\n",
      "[255 255 255]\n",
      "[255 255 255]\n",
      "[255 255 255]\n",
      "[255 255 255]\n",
      "[255 255 255]\n",
      "[255 255 255]\n",
      "[255 255 255]\n",
      "[255 255 255]\n",
      "[255 255 255]\n",
      "[255 255 255]\n",
      "[255 255 255]\n",
      "[255 255 255]\n",
      "[255 255 255]\n",
      "[255 255 255]\n",
      "[255 255 255]\n",
      "[255 255 255]\n",
      "[255 255 255]\n",
      "[255 255 255]\n",
      "[255 255 255]\n",
      "[255 255 255]\n",
      "[255 255 255]\n",
      "[255 255 255]\n",
      "[255 255 255]\n",
      "[255 255 255]\n",
      "[255 255 255]\n",
      "[255 255 255]\n",
      "[255 255 255]\n",
      "[255 255 255]\n",
      "[255 255 255]\n",
      "[255 255 255]\n",
      "[255 255 255]\n",
      "[255 255 255]\n",
      "[255 255 255]\n",
      "[255 255 255]\n",
      "[255 255 255]\n",
      "[255 255 255]\n",
      "[255 255 255]\n",
      "[255 255 255]\n",
      "[255 255 255]\n",
      "[255 255 255]\n",
      "[255 255 255]\n",
      "[255 255 255]\n",
      "[255 255 255]\n",
      "[255 255 255]\n",
      "[255 255 255]\n",
      "[255 255 255]\n",
      "[255 255 255]\n",
      "[255 255 255]\n",
      "[255 255 255]\n",
      "[255 255 255]\n",
      "[255 255 255]\n",
      "[255 255 255]\n",
      "[255 255 255]\n",
      "[255 255 255]\n",
      "[255 255 255]\n",
      "[255 255 255]\n",
      "[255 255 255]\n",
      "[255 255 255]\n",
      "[255 255 255]\n",
      "[255 255 255]\n",
      "[255 255 255]\n",
      "[255 255 255]\n",
      "[255 255 255]\n",
      "[255 255 255]\n",
      "[255 255 255]\n",
      "[255 255 255]\n",
      "[255 255 255]\n",
      "[255 255 255]\n",
      "[255 255 255]\n",
      "[255 255 255]\n",
      "[255 255 255]\n",
      "[255 255 255]\n",
      "[255 255 255]\n",
      "[255 255 255]\n",
      "[255 255 255]\n",
      "[255 255 255]\n",
      "[255 255 255]\n",
      "[255 255 255]\n",
      "[255 255 255]\n",
      "[255 255 255]\n",
      "[255 255 255]\n",
      "[255 255 255]\n",
      "[255 255 255]\n",
      "[255 255 255]\n",
      "[255 255 255]\n",
      "[255 255 255]\n",
      "[255 255 255]\n",
      "[255 255 255]\n",
      "[255 255 255]\n",
      "[255 255 255]\n",
      "[255 255 255]\n",
      "[255 255 255]\n",
      "[255 255 255]\n",
      "[255 255 255]\n",
      "[255 255 255]\n",
      "[255 255 255]\n",
      "[255 255 255]\n",
      "[255 255 255]\n",
      "[255 255 255]\n",
      "[255 255 255]\n",
      "[255 255 255]\n",
      "[255 255 255]\n",
      "[255 255 255]\n",
      "[255 255 255]\n",
      "[255 255 255]\n",
      "[255 255 255]\n",
      "[255 255 255]\n",
      "[255 255 255]\n",
      "[255 255 255]\n",
      "[255 255 255]\n",
      "[255 255 255]\n",
      "[255 255 255]\n",
      "[255 255 255]\n",
      "[255 255 255]\n",
      "[255 255 255]\n",
      "[255 255 255]\n",
      "[255 255 255]\n",
      "[255 255 255]\n",
      "[255 255 255]\n",
      "[255 255 255]\n",
      "[255 255 255]\n",
      "[255 255 255]\n",
      "[255 255 255]\n",
      "[255 255 255]\n",
      "[255 255 255]\n",
      "[255 255 255]\n",
      "[255 255 255]\n",
      "[255 255 255]\n",
      "[255 255 255]\n",
      "[255 255 255]\n",
      "[255 255 255]\n",
      "[255 255 255]\n",
      "[255 255 255]\n",
      "[255 255 255]\n",
      "[255 255 255]\n",
      "[255 255 255]\n",
      "[255 255 255]\n",
      "[255 255 255]\n",
      "[255 255 255]\n",
      "[255 255 255]\n",
      "[255 255 255]\n",
      "[255 255 255]\n",
      "[255 255 255]\n",
      "[255 255 255]\n",
      "[255 255 255]\n",
      "[255 255 255]\n",
      "[255 255 255]\n",
      "[255 255 255]\n",
      "[255 255 255]\n",
      "[255 255 255]\n",
      "[255 255 255]\n",
      "[255 255 255]\n",
      "[255 255 255]\n",
      "[255 255 255]\n",
      "[255 255 255]\n",
      "[255 255 255]\n",
      "[255 255 255]\n",
      "[255 255 255]\n",
      "[255 255 255]\n",
      "[255 255 255]\n",
      "[255 255 255]\n",
      "[255 255 255]\n",
      "[255 255 255]\n",
      "[255 255 255]\n",
      "[255 255 255]\n",
      "[255 255 255]\n",
      "[255 255 255]\n",
      "[255 255 255]\n",
      "[255 255 255]\n",
      "[255 255 255]\n",
      "[255 255 255]\n",
      "[255 255 255]\n",
      "[255 255 255]\n",
      "[255 255 255]\n",
      "[255 255 255]\n",
      "[255 255 255]\n",
      "[255 255 255]\n",
      "[255 255 255]\n",
      "[255 255 255]\n",
      "[255 255 255]\n",
      "[255 255 255]\n",
      "[255 255 255]\n",
      "[255 255 255]\n",
      "[255 255 255]\n",
      "[255 255 255]\n",
      "[255 255 255]\n",
      "[255 255 255]\n",
      "[255 255 255]\n",
      "[255 255 255]\n",
      "[255 255 255]\n",
      "[255 255 255]\n",
      "[255 255 255]\n",
      "[255 255 255]\n",
      "[255 255 255]\n",
      "[255 255 255]\n",
      "[255 255 255]\n",
      "[255 255 255]\n",
      "[255 255 255]\n",
      "[255 255 255]\n",
      "[255 255 255]\n",
      "[255 255 255]\n",
      "[255 255 255]\n",
      "[255 255 255]\n",
      "[255 255 255]\n",
      "[255 255 255]\n",
      "[255 255 255]\n",
      "[255 255 255]\n",
      "[255 255 255]\n",
      "[255 255 255]\n",
      "[255 255 255]\n",
      "[255 255 255]\n",
      "[255 255 255]\n",
      "[255 255 255]\n",
      "[255 255 255]\n",
      "[255 255 255]\n",
      "[255 255 255]\n",
      "[255 255 255]\n",
      "[255 255 255]\n",
      "[255 255 255]\n",
      "[255 255 255]\n",
      "[255 255 255]\n",
      "[255 255 255]\n",
      "[255 255 255]\n",
      "[255 255 255]\n",
      "[255 255 255]\n",
      "[255 255 255]\n",
      "[255 255 255]\n",
      "[255 255 255]\n",
      "[255 255 255]\n",
      "[255 255 255]\n",
      "[255 255 255]\n",
      "[255 255 255]\n",
      "[255 255 255]\n",
      "[255 255 255]\n",
      "[255 255 255]\n",
      "[255 255 255]\n",
      "[255 255 255]\n",
      "[255 255 255]\n",
      "[255 255 255]\n",
      "[255 255 255]\n",
      "[255 255 255]\n",
      "[255 255 255]\n",
      "[255 255 255]\n",
      "[255 255 255]\n",
      "[255 255 255]\n",
      "[255 255 255]\n",
      "[255 255 255]\n",
      "[255 255 255]\n",
      "[255 255 255]\n",
      "[255 255 255]\n",
      "[255 255 255]\n",
      "[255 255 255]\n"
     ]
    }
   ],
   "source": [
    "cnt = 0\n",
    "for pixel in spec[0]:\n",
    "    cnt+=1\n",
    "    print(pixel)\n",
    "\n",
    "    "
   ]
  },
  {
   "cell_type": "code",
   "execution_count": 8,
   "metadata": {
    "ExecuteTime": {
     "end_time": "2020-10-22T03:30:19.830582Z",
     "start_time": "2020-10-22T03:30:19.643174Z"
    }
   },
   "outputs": [
    {
     "ename": "NameError",
     "evalue": "name 'spec_arr' is not defined",
     "output_type": "error",
     "traceback": [
      "\u001b[0;31m---------------------------------------------------------------------------\u001b[0m",
      "\u001b[0;31mNameError\u001b[0m                                 Traceback (most recent call last)",
      "\u001b[0;32m<ipython-input-8-5312727164b3>\u001b[0m in \u001b[0;36m<module>\u001b[0;34m\u001b[0m\n\u001b[1;32m      2\u001b[0m \u001b[0mplt\u001b[0m\u001b[0;34m.\u001b[0m\u001b[0mxticks\u001b[0m\u001b[0;34m(\u001b[0m\u001b[0;34m[\u001b[0m\u001b[0;34m]\u001b[0m\u001b[0;34m)\u001b[0m\u001b[0;34m,\u001b[0m \u001b[0mplt\u001b[0m\u001b[0;34m.\u001b[0m\u001b[0myticks\u001b[0m\u001b[0;34m(\u001b[0m\u001b[0;34m[\u001b[0m\u001b[0;34m]\u001b[0m\u001b[0;34m)\u001b[0m\u001b[0;34m\u001b[0m\u001b[0;34m\u001b[0m\u001b[0m\n\u001b[1;32m      3\u001b[0m \u001b[0mplt\u001b[0m\u001b[0;34m.\u001b[0m\u001b[0muse_sticky_edges\u001b[0m \u001b[0;34m=\u001b[0m \u001b[0;32mTrue\u001b[0m\u001b[0;34m\u001b[0m\u001b[0;34m\u001b[0m\u001b[0m\n\u001b[0;32m----> 4\u001b[0;31m \u001b[0mplt\u001b[0m\u001b[0;34m.\u001b[0m\u001b[0mimshow\u001b[0m\u001b[0;34m(\u001b[0m\u001b[0mspec_arr\u001b[0m\u001b[0;34m)\u001b[0m\u001b[0;34m\u001b[0m\u001b[0;34m\u001b[0m\u001b[0m\n\u001b[0m\u001b[1;32m      5\u001b[0m \u001b[0mplt\u001b[0m\u001b[0;34m.\u001b[0m\u001b[0mshow\u001b[0m\u001b[0;34m(\u001b[0m\u001b[0;34m)\u001b[0m\u001b[0;34m\u001b[0m\u001b[0;34m\u001b[0m\u001b[0m\n",
      "\u001b[0;31mNameError\u001b[0m: name 'spec_arr' is not defined"
     ]
    },
    {
     "data": {
      "image/png": "[encoded data removed]",
      "text/plain": [
       "<Figure size 144x144 with 1 Axes>"
      ]
     },
     "metadata": {},
     "output_type": "display_data"
    }
   ],
   "source": [
    "plt.axis('off')\n",
    "plt.xticks([]), plt.yticks([])\n",
    "plt.use_sticky_edges = True\n",
    "plt.imshow(spec_arr)\n",
    "plt.show()"
   ]
  },
  {
   "cell_type": "markdown",
   "metadata": {},
   "source": [
    "# 3. Data Load"
   ]
  },
  {
   "cell_type": "code",
   "execution_count": 69,
   "metadata": {
    "ExecuteTime": {
     "end_time": "2020-10-23T11:32:55.754915Z",
     "start_time": "2020-10-23T11:32:55.752055Z"
    }
   },
   "outputs": [],
   "source": [
    "from torch.utils.data import DataLoader, Dataset"
   ]
  },
  {
   "cell_type": "code",
   "execution_count": 71,
   "metadata": {
    "ExecuteTime": {
     "end_time": "2020-10-23T11:33:21.474968Z",
     "start_time": "2020-10-23T11:33:21.459690Z"
    }
   },
   "outputs": [],
   "source": [
    "from spectrogram import Spectrogram\n",
    "\n",
    "class TestDataset(Dataset):\n",
    "    \n",
    "    def __init__(self, file_pth: str, train=True, random_state=None):\n",
    "        super(Dataset, self).__init__()\n",
    "        \n",
    "        self.sp = Spectrogram()\n",
    "        \n",
    "        self.file_pth = file_pth\n",
    "        self.train = train\n",
    "        self.random_state = None\n",
    "        \n",
    "        self.data = self.read_data()\n",
    "        datasets = train_test_split(self.data)\n",
    "        if train:\n",
    "            self.train = datasets[0]\n",
    "        else:\n",
    "            # actually this is test dataset\n",
    "            self.train = datasets[1]\n",
    "    \n",
    "    def __getitem__(self, index):\n",
    "        \n",
    "        # datasets[0][index][0]\n",
    "        img = self.self.sp.spec_array(self.train[index][0])\n",
    "        img = torch.tensor(img, dtype=torch.float64)\n",
    "        target = self.train[index][1]\n",
    "        target = torch.tensor(target)\n",
    "        return img, target\n",
    "    \n",
    "    def __len__(self):\n",
    "        return len(self.train)\n",
    "    \n",
    "    def read_data(self):\n",
    "        datas = []\n",
    "        #self.file = \"./sample_data.txt\"\n",
    "        with open(self.file_pth, \"r\") as f:\n",
    "            header = f.readline()\n",
    "            while 1:\n",
    "                line = f.readline()\n",
    "                if not line:\n",
    "                    break\n",
    "                tmp = line.strip().split('\\t')\n",
    "#                 freq = list(map(float, tmp[4:]))\n",
    "                freq = list(map(float, tmp[1:]))\n",
    "#                 print(freq[-1])\n",
    "                label = int(tmp[0])\n",
    "                \n",
    "                datas.append([freq,label])\n",
    "                \n",
    "        return datas\n",
    "    \n",
    "    def augment(self, datas):\n",
    "        pass\n",
    "\n",
    "\n",
    "# spectrogram 따로 뺌\n",
    "\n",
    "#     def spec_array(self, arr):\n",
    "#         plt.rcParams[\"figure.figsize\"] = (3.4,3.4)\n",
    "#         plt.axis('off') # \"invisable\" axis in plot\n",
    "#         plt.xticks([]), plt.yticks([])\n",
    "#         plt.use_sticky_edges = True\n",
    "#         plt.margins(0)\n",
    "#         plt.specgram(list(arr), NFFT=10000, Fs=10, noverlap=5, detrend='mean', mode='psd')\n",
    "#         fig = plt.figure(1, tight_layout=True)\n",
    "#         fig.canvas.draw()\n",
    "#         fig.tight_layout(pad=0)\n",
    "#     #     plt.close()\n",
    "\n",
    "#         # Now we can save it to a numpy array.\n",
    "#         data = np.fromstring(fig.canvas.tostring_rgb(), dtype=np.uint8, sep='')\n",
    "#         data = data.reshape((3,) + fig.canvas.get_width_height()[::-1])\n",
    "#     #     return np.array(fig.canvas.renderer._renderer)\n",
    "#         return data\n"
   ]
  },
  {
   "cell_type": "markdown",
   "metadata": {},
   "source": [
    "### split data"
   ]
  },
  {
   "cell_type": "code",
   "execution_count": 6,
   "metadata": {
    "ExecuteTime": {
     "end_time": "2020-10-23T00:51:12.952946Z",
     "start_time": "2020-10-23T00:51:12.831964Z"
    }
   },
   "outputs": [
    {
     "ename": "NameError",
     "evalue": "name 'datas' is not defined",
     "output_type": "error",
     "traceback": [
      "\u001b[0;31m---------------------------------------------------------------------------\u001b[0m",
      "\u001b[0;31mNameError\u001b[0m                                 Traceback (most recent call last)",
      "\u001b[0;32m<ipython-input-6-225a1291e010>\u001b[0m in \u001b[0;36m<module>\u001b[0;34m\u001b[0m\n\u001b[1;32m      3\u001b[0m \u001b[0;31m#     arr = spec_array(spec)\u001b[0m\u001b[0;34m\u001b[0m\u001b[0;34m\u001b[0m\u001b[0;34m\u001b[0m\u001b[0m\n\u001b[1;32m      4\u001b[0m \u001b[0;31m#     data.append(arr)\u001b[0m\u001b[0;34m\u001b[0m\u001b[0;34m\u001b[0m\u001b[0;34m\u001b[0m\u001b[0m\n\u001b[0;32m----> 5\u001b[0;31m \u001b[0;32mfor\u001b[0m \u001b[0mi\u001b[0m\u001b[0;34m,\u001b[0m\u001b[0md\u001b[0m \u001b[0;32min\u001b[0m \u001b[0menumerate\u001b[0m\u001b[0;34m(\u001b[0m\u001b[0mdatas\u001b[0m\u001b[0;34m)\u001b[0m\u001b[0;34m:\u001b[0m\u001b[0;34m\u001b[0m\u001b[0;34m\u001b[0m\u001b[0m\n\u001b[0m\u001b[1;32m      6\u001b[0m     \u001b[0marr\u001b[0m \u001b[0;34m=\u001b[0m \u001b[0mspec_array\u001b[0m\u001b[0;34m(\u001b[0m\u001b[0md\u001b[0m\u001b[0;34m[\u001b[0m\u001b[0;36m0\u001b[0m\u001b[0;34m]\u001b[0m\u001b[0;34m)\u001b[0m\u001b[0;34m\u001b[0m\u001b[0;34m\u001b[0m\u001b[0m\n\u001b[1;32m      7\u001b[0m     \u001b[0md\u001b[0m\u001b[0;34m[\u001b[0m\u001b[0;36m0\u001b[0m\u001b[0;34m]\u001b[0m \u001b[0;34m=\u001b[0m \u001b[0mtorch\u001b[0m\u001b[0;34m.\u001b[0m\u001b[0mtensor\u001b[0m\u001b[0;34m(\u001b[0m\u001b[0marr\u001b[0m\u001b[0;34m)\u001b[0m \u001b[0;31m# .flatten()\u001b[0m\u001b[0;34m\u001b[0m\u001b[0;34m\u001b[0m\u001b[0m\n",
      "\u001b[0;31mNameError\u001b[0m: name 'datas' is not defined"
     ]
    }
   ],
   "source": [
    "data = []\n",
    "# for spec in specs:\n",
    "#     arr = spec_array(spec)\n",
    "#     data.append(arr)\n",
    "for i,d in enumerate(datas):\n",
    "    arr = spec_array(d[0])\n",
    "    d[0] = torch.tensor(arr) # .flatten()\n",
    "#     data.append(arr)"
   ]
  },
  {
   "cell_type": "code",
   "execution_count": 12,
   "metadata": {
    "ExecuteTime": {
     "end_time": "2020-10-22T11:45:24.881011Z",
     "start_time": "2020-10-22T11:45:24.877148Z"
    }
   },
   "outputs": [
    {
     "data": {
      "text/plain": [
       "torch.Size([3, 144, 144])"
      ]
     },
     "execution_count": 12,
     "metadata": {},
     "output_type": "execute_result"
    }
   ],
   "source": [
    "# renderer 미사용\n",
    "datas[0][0].shape"
   ]
  },
  {
   "cell_type": "code",
   "execution_count": 7,
   "metadata": {
    "ExecuteTime": {
     "end_time": "2020-10-23T00:51:23.159286Z",
     "start_time": "2020-10-23T00:51:23.150281Z"
    }
   },
   "outputs": [
    {
     "ename": "NameError",
     "evalue": "name 'datas' is not defined",
     "output_type": "error",
     "traceback": [
      "\u001b[0;31m---------------------------------------------------------------------------\u001b[0m",
      "\u001b[0;31mNameError\u001b[0m                                 Traceback (most recent call last)",
      "\u001b[0;32m<ipython-input-7-5f73e2893ad3>\u001b[0m in \u001b[0;36m<module>\u001b[0;34m\u001b[0m\n\u001b[1;32m      1\u001b[0m \u001b[0;31m# validation 참조 https://discuss.pytorch.org/t/how-to-split-dataset-into-test-and-validation-sets/33987/5\u001b[0m\u001b[0;34m\u001b[0m\u001b[0;34m\u001b[0m\u001b[0;34m\u001b[0m\u001b[0m\n\u001b[0;32m----> 2\u001b[0;31m \u001b[0mdatasets\u001b[0m \u001b[0;34m=\u001b[0m \u001b[0mtrain_test_split\u001b[0m\u001b[0;34m(\u001b[0m\u001b[0mdatas\u001b[0m\u001b[0;34m)\u001b[0m\u001b[0;34m\u001b[0m\u001b[0;34m\u001b[0m\u001b[0m\n\u001b[0m",
      "\u001b[0;31mNameError\u001b[0m: name 'datas' is not defined"
     ]
    }
   ],
   "source": [
    "# validation 참조 https://discuss.pytorch.org/t/how-to-split-dataset-into-test-and-validation-sets/33987/5\n",
    "datasets = train_test_split(datas)"
   ]
  },
  {
   "cell_type": "code",
   "execution_count": 14,
   "metadata": {
    "ExecuteTime": {
     "end_time": "2020-10-22T11:45:27.764803Z",
     "start_time": "2020-10-22T11:45:27.761315Z"
    }
   },
   "outputs": [
    {
     "name": "stdout",
     "output_type": "stream",
     "text": [
      "7\n",
      "3\n"
     ]
    }
   ],
   "source": [
    "print(len(datasets[0]))\n",
    "print(len(datasets[1]))"
   ]
  },
  {
   "cell_type": "code",
   "execution_count": 18,
   "metadata": {
    "ExecuteTime": {
     "end_time": "2020-10-22T11:46:01.018103Z",
     "start_time": "2020-10-22T11:46:01.013004Z"
    }
   },
   "outputs": [
    {
     "data": {
      "text/plain": [
       "0"
      ]
     },
     "execution_count": 18,
     "metadata": {},
     "output_type": "execute_result"
    }
   ],
   "source": [
    "datasets[0][1][1]"
   ]
  },
  {
   "cell_type": "code",
   "execution_count": 19,
   "metadata": {
    "ExecuteTime": {
     "end_time": "2020-10-22T11:46:38.218618Z",
     "start_time": "2020-10-22T11:46:38.212914Z"
    }
   },
   "outputs": [],
   "source": [
    "# trainloader = torch.utils.data.DataLoader(datasets[0], batch_size=1,shuffle=False, num_workers=2)\n",
    "# testloader = torch.utils.data.DataLoader(datasets[1], batch_size=1,shuffle=False, num_workers=2)"
   ]
  },
  {
   "cell_type": "markdown",
   "metadata": {},
   "source": [
    "# 4. Modeling"
   ]
  },
  {
   "cell_type": "code",
   "execution_count": 14,
   "metadata": {
    "ExecuteTime": {
     "end_time": "2020-10-23T08:20:22.340705Z",
     "start_time": "2020-10-23T08:20:21.781001Z"
    }
   },
   "outputs": [],
   "source": [
    "train_dataset = TestDataset('./sample_data.txt')\n",
    "test_dataset = TestDataset('./sample_data.txt', train=False)\n",
    "trainloader = torch.utils.data.DataLoader(train_dataset, batch_size=2,shuffle=False, num_workers=2)\n",
    "testloader = torch.utils.data.DataLoader(test_dataset, batch_size=2,shuffle=False, num_workers=2)"
   ]
  },
  {
   "cell_type": "code",
   "execution_count": 72,
   "metadata": {
    "ExecuteTime": {
     "end_time": "2020-10-23T11:33:32.681275Z",
     "start_time": "2020-10-23T11:33:28.524685Z"
    }
   },
   "outputs": [],
   "source": [
    "train_dataset = TestDataset('../augmented.txt')\n",
    "test_dataset = TestDataset('../augmented.txt', train=False)\n",
    "trainloader = torch.utils.data.DataLoader(train_dataset, batch_size=2,shuffle=False, num_workers=2)\n",
    "testloader = torch.utils.data.DataLoader(test_dataset, batch_size=2,shuffle=False, num_workers=2)"
   ]
  },
  {
   "cell_type": "code",
   "execution_count": 43,
   "metadata": {
    "ExecuteTime": {
     "end_time": "2020-10-23T10:28:06.763716Z",
     "start_time": "2020-10-23T10:28:06.721890Z"
    }
   },
   "outputs": [
    {
     "ename": "SyntaxError",
     "evalue": "invalid syntax (<ipython-input-43-ee8a57bbcde4>, line 6)",
     "output_type": "error",
     "traceback": [
      "\u001b[0;36m  File \u001b[0;32m\"<ipython-input-43-ee8a57bbcde4>\"\u001b[0;36m, line \u001b[0;32m6\u001b[0m\n\u001b[0;31m    self.fc0 = nn.Linear(57800, 34)from torchvision.models import resnet34\u001b[0m\n\u001b[0m                                      ^\u001b[0m\n\u001b[0;31mSyntaxError\u001b[0m\u001b[0;31m:\u001b[0m invalid syntax\n"
     ]
    }
   ],
   "source": [
    "class CNN(nn.Module):\n",
    "    def __init__(self):\n",
    "        super(CNN, self).__init__()\n",
    "        self.conv1 = nn.Conv2d(in_channels=3, out_channels=10, kernel_size=3, stride=1)\n",
    "        self.conv2 = nn.Conv2d(in_channels=10, out_channels=50, kernel_size=3, stride=1)\n",
    "        self.fc0 = nn.Linear(57800, 34)from torchvision.models import resnet34\n",
    "        self.fc1 = nn.Linear(34, 10)\n",
    "        self.fc2 = nn.Linear(10, 2)\n",
    "\n",
    "#     def forward(self, x):\n",
    "#         x = F.relu(self.conv1(x.float()))\n",
    "#         x = F.max_pool2d(x, kernel_size=2, stride=2)\n",
    "#         x = F.relu(self.conv2(x))\n",
    "#         x = F.max_pool2d(x, kernel_size=2, stride=2)\n",
    "\n",
    "#         x = x.view(-1, 4 * 4 * 50) # [batch_size, 50, 4, 4]\n",
    "#         x = F.relu(self.fc1(x))\n",
    "#         x = self.fc2(x)\n",
    "#         return x\n",
    "    \n",
    "    \n",
    "    \n",
    "    \n",
    "    def forward(self,x):\n",
    "        x = x.view(-1, 3, 144, 144)\n",
    "        x = F.max_pool2d(F.relu(self.conv1(x.float())), (2,2))\n",
    "        \n",
    "        x = F.max_pool2d(F.relu(self.conv2(x)), 2)\n",
    "#         x.view(-1, self.num_flat_features(x))\n",
    "        x = x.view(-1, self.num_flat_features(x))\n",
    "        # torch.Size([2, 50, 34, 34])\n",
    "#         print(f'what is this?{x.shape}')\n",
    "        x = F.relu(self.fc0(x))\n",
    "        x = F.relu(self.fc1(x))\n",
    "        x = F.relu(self.fc2(x))\n",
    "#        print(x.shape)\n",
    "#         x = self.fc3(x)\n",
    "        return F.log_softmax(x, dim=1)\n",
    "#         return x\n",
    "    \n",
    "    def num_flat_features(self, x):\n",
    "        size = x.size()[1:]\n",
    "#        print(f'size: {size}')\n",
    "        num_features = 1\n",
    "        for s in size:\n",
    "            num_features *= s\n",
    "#        print(f'num_features: {num_features}')\n",
    "        # 57800\n",
    "        return num_features"
   ]
  },
  {
   "cell_type": "code",
   "execution_count": 44,
   "metadata": {
    "ExecuteTime": {
     "end_time": "2020-10-23T11:17:38.621242Z",
     "start_time": "2020-10-23T11:17:38.600971Z"
    }
   },
   "outputs": [],
   "source": [
    "from torchvision.models import resnet34\n",
    "\n",
    "class CNN(nn.Module):\n",
    "    def __init__(self):\n",
    "        super(CNN, self).__init__()\n",
    "        self.model = resnet34(pretrained=True)\n",
    "        print(self.model.fc.in_features)\n",
    "        \n",
    "        self.fc = nn.Linear(512, 2)\n",
    "#         self.fc0 = nn.Linear(57800, 34)\n",
    "#         self.fc1 = nn.Linear(34, 10)\n",
    "#         self.fc2 = nn.Linear(10, 2)\n",
    "    \n",
    "    \n",
    "    \n",
    "    \n",
    "    def forward(self,x):\n",
    "        x = x.view(-1, 3, 224, 224)\n",
    "        x = F.relu(model(x))\n",
    "#         x.view(-1, self.num_flat_features(x))\n",
    "        x = x.view(-1, self.num_flat_features(x))\n",
    "        # torch.Size([2, 50, 34, 34])\n",
    "#         print(f'what is this?{x.shape}')\n",
    "        x = F.relu(self.fc(x))\n",
    "\n",
    "#        print(x.shape)\n",
    "#         x = self.fc3(x)\n",
    "        return F.log_softmax(x, dim=1)\n",
    "#         return x\n",
    "    \n",
    "    def num_flat_features(self, x):\n",
    "        size = x.size()[1:]\n",
    "#        print(f'size: {size}')\n",
    "        num_features = 1\n",
    "        for s in size:\n",
    "            num_features *= s\n",
    "#        print(f'num_features: {num_features}')\n",
    "        # 57800\n",
    "        return num_features"
   ]
  },
  {
   "cell_type": "code",
   "execution_count": 45,
   "metadata": {
    "ExecuteTime": {
     "end_time": "2020-10-23T11:17:47.108724Z",
     "start_time": "2020-10-23T11:17:42.983412Z"
    },
    "scrolled": true
   },
   "outputs": [
    {
     "name": "stdout",
     "output_type": "stream",
     "text": [
      "512\n"
     ]
    }
   ],
   "source": [
    "cnn = CNN().to('cuda')\n",
    "criterion = torch.nn.CrossEntropyLoss()\n",
    "#optimizer = optim.SGD(cnn.parameters(), lr=0.01)\n",
    "# criterion = torch.nn.BCELoss()\n",
    "optimizer = optim.Adam(cnn.parameters(), lr=0.01)"
   ]
  },
  {
   "cell_type": "code",
   "execution_count": 46,
   "metadata": {
    "ExecuteTime": {
     "end_time": "2020-10-23T11:17:51.573271Z",
     "start_time": "2020-10-23T11:17:50.283898Z"
    }
   },
   "outputs": [
    {
     "name": "stderr",
     "output_type": "stream",
     "text": [
      "/opt/conda/lib/python3.7/site-packages/ipykernel_launcher.py:65: DeprecationWarning: The binary mode of fromstring is deprecated, as it behaves surprisingly on unicode inputs. Use frombuffer instead\n",
      "/opt/conda/lib/python3.7/site-packages/ipykernel_launcher.py:65: DeprecationWarning: The binary mode of fromstring is deprecated, as it behaves surprisingly on unicode inputs. Use frombuffer instead\n"
     ]
    },
    {
     "ename": "RuntimeError",
     "evalue": "shape '[-1, 3, 224, 224]' is invalid for input of size 357216",
     "output_type": "error",
     "traceback": [
      "\u001b[0;31m---------------------------------------------------------------------------\u001b[0m",
      "\u001b[0;31mRuntimeError\u001b[0m                              Traceback (most recent call last)",
      "\u001b[0;32m<ipython-input-46-ec6b548a55cc>\u001b[0m in \u001b[0;36m<module>\u001b[0;34m\u001b[0m\n\u001b[1;32m      5\u001b[0m         \u001b[0mtarget\u001b[0m \u001b[0;34m=\u001b[0m \u001b[0mtarget\u001b[0m\u001b[0;34m.\u001b[0m\u001b[0mto\u001b[0m\u001b[0;34m(\u001b[0m\u001b[0;34m'cuda'\u001b[0m\u001b[0;34m)\u001b[0m\u001b[0;34m\u001b[0m\u001b[0;34m\u001b[0m\u001b[0m\n\u001b[1;32m      6\u001b[0m         \u001b[0moptimizer\u001b[0m\u001b[0;34m.\u001b[0m\u001b[0mzero_grad\u001b[0m\u001b[0;34m(\u001b[0m\u001b[0;34m)\u001b[0m  \u001b[0;31m# 기울기 초기화\u001b[0m\u001b[0;34m\u001b[0m\u001b[0;34m\u001b[0m\u001b[0m\n\u001b[0;32m----> 7\u001b[0;31m         \u001b[0moutput\u001b[0m \u001b[0;34m=\u001b[0m \u001b[0mcnn\u001b[0m\u001b[0;34m(\u001b[0m\u001b[0mdata\u001b[0m\u001b[0;34m)\u001b[0m\u001b[0;34m\u001b[0m\u001b[0;34m\u001b[0m\u001b[0m\n\u001b[0m\u001b[1;32m      8\u001b[0m \u001b[0;31m#         print(f\"output : {output}, target:{target}\")\u001b[0m\u001b[0;34m\u001b[0m\u001b[0;34m\u001b[0m\u001b[0;34m\u001b[0m\u001b[0m\n\u001b[1;32m      9\u001b[0m         \u001b[0mloss\u001b[0m \u001b[0;34m=\u001b[0m \u001b[0mcriterion\u001b[0m\u001b[0;34m(\u001b[0m\u001b[0moutput\u001b[0m\u001b[0;34m,\u001b[0m \u001b[0mtarget\u001b[0m\u001b[0;34m)\u001b[0m\u001b[0;34m\u001b[0m\u001b[0;34m\u001b[0m\u001b[0m\n",
      "\u001b[0;32m/opt/conda/lib/python3.7/site-packages/torch/nn/modules/module.py\u001b[0m in \u001b[0;36m__call__\u001b[0;34m(self, *input, **kwargs)\u001b[0m\n\u001b[1;32m    530\u001b[0m             \u001b[0mresult\u001b[0m \u001b[0;34m=\u001b[0m \u001b[0mself\u001b[0m\u001b[0;34m.\u001b[0m\u001b[0m_slow_forward\u001b[0m\u001b[0;34m(\u001b[0m\u001b[0;34m*\u001b[0m\u001b[0minput\u001b[0m\u001b[0;34m,\u001b[0m \u001b[0;34m**\u001b[0m\u001b[0mkwargs\u001b[0m\u001b[0;34m)\u001b[0m\u001b[0;34m\u001b[0m\u001b[0;34m\u001b[0m\u001b[0m\n\u001b[1;32m    531\u001b[0m         \u001b[0;32melse\u001b[0m\u001b[0;34m:\u001b[0m\u001b[0;34m\u001b[0m\u001b[0;34m\u001b[0m\u001b[0m\n\u001b[0;32m--> 532\u001b[0;31m             \u001b[0mresult\u001b[0m \u001b[0;34m=\u001b[0m \u001b[0mself\u001b[0m\u001b[0;34m.\u001b[0m\u001b[0mforward\u001b[0m\u001b[0;34m(\u001b[0m\u001b[0;34m*\u001b[0m\u001b[0minput\u001b[0m\u001b[0;34m,\u001b[0m \u001b[0;34m**\u001b[0m\u001b[0mkwargs\u001b[0m\u001b[0;34m)\u001b[0m\u001b[0;34m\u001b[0m\u001b[0;34m\u001b[0m\u001b[0m\n\u001b[0m\u001b[1;32m    533\u001b[0m         \u001b[0;32mfor\u001b[0m \u001b[0mhook\u001b[0m \u001b[0;32min\u001b[0m \u001b[0mself\u001b[0m\u001b[0;34m.\u001b[0m\u001b[0m_forward_hooks\u001b[0m\u001b[0;34m.\u001b[0m\u001b[0mvalues\u001b[0m\u001b[0;34m(\u001b[0m\u001b[0;34m)\u001b[0m\u001b[0;34m:\u001b[0m\u001b[0;34m\u001b[0m\u001b[0;34m\u001b[0m\u001b[0m\n\u001b[1;32m    534\u001b[0m             \u001b[0mhook_result\u001b[0m \u001b[0;34m=\u001b[0m \u001b[0mhook\u001b[0m\u001b[0;34m(\u001b[0m\u001b[0mself\u001b[0m\u001b[0;34m,\u001b[0m \u001b[0minput\u001b[0m\u001b[0;34m,\u001b[0m \u001b[0mresult\u001b[0m\u001b[0;34m)\u001b[0m\u001b[0;34m\u001b[0m\u001b[0;34m\u001b[0m\u001b[0m\n",
      "\u001b[0;32m<ipython-input-44-aa5c89af8073>\u001b[0m in \u001b[0;36mforward\u001b[0;34m(self, x)\u001b[0m\n\u001b[1;32m     16\u001b[0m \u001b[0;34m\u001b[0m\u001b[0m\n\u001b[1;32m     17\u001b[0m     \u001b[0;32mdef\u001b[0m \u001b[0mforward\u001b[0m\u001b[0;34m(\u001b[0m\u001b[0mself\u001b[0m\u001b[0;34m,\u001b[0m\u001b[0mx\u001b[0m\u001b[0;34m)\u001b[0m\u001b[0;34m:\u001b[0m\u001b[0;34m\u001b[0m\u001b[0;34m\u001b[0m\u001b[0m\n\u001b[0;32m---> 18\u001b[0;31m         \u001b[0mx\u001b[0m \u001b[0;34m=\u001b[0m \u001b[0mx\u001b[0m\u001b[0;34m.\u001b[0m\u001b[0mview\u001b[0m\u001b[0;34m(\u001b[0m\u001b[0;34m-\u001b[0m\u001b[0;36m1\u001b[0m\u001b[0;34m,\u001b[0m \u001b[0;36m3\u001b[0m\u001b[0;34m,\u001b[0m \u001b[0;36m224\u001b[0m\u001b[0;34m,\u001b[0m \u001b[0;36m224\u001b[0m\u001b[0;34m)\u001b[0m\u001b[0;34m\u001b[0m\u001b[0;34m\u001b[0m\u001b[0m\n\u001b[0m\u001b[1;32m     19\u001b[0m         \u001b[0mx\u001b[0m \u001b[0;34m=\u001b[0m \u001b[0mF\u001b[0m\u001b[0;34m.\u001b[0m\u001b[0mrelu\u001b[0m\u001b[0;34m(\u001b[0m\u001b[0mmodel\u001b[0m\u001b[0;34m(\u001b[0m\u001b[0mx\u001b[0m\u001b[0;34m)\u001b[0m\u001b[0;34m)\u001b[0m\u001b[0;34m\u001b[0m\u001b[0;34m\u001b[0m\u001b[0m\n\u001b[1;32m     20\u001b[0m \u001b[0;31m#         x.view(-1, self.num_flat_features(x))\u001b[0m\u001b[0;34m\u001b[0m\u001b[0;34m\u001b[0m\u001b[0;34m\u001b[0m\u001b[0m\n",
      "\u001b[0;31mRuntimeError\u001b[0m: shape '[-1, 3, 224, 224]' is invalid for input of size 357216"
     ]
    }
   ],
   "source": [
    "cnn.train()  # 학습을 위함\n",
    "for epoch in range(10):\n",
    "    for index, (data, target) in enumerate(trainloader):\n",
    "        data = data.to('cuda')\n",
    "        target = target.to('cuda')\n",
    "        optimizer.zero_grad()  # 기울기 초기화\n",
    "        output = cnn(data)\n",
    "#         print(f\"output : {output}, target:{target}\")\n",
    "        loss = criterion(output, target)\n",
    "        loss.backward()  # 역전파\n",
    "        optimizer.step()\n",
    "\n",
    "    if index % 1 == 0:\n",
    "      print(\"loss of {} epoch, {} index : {}\".format(epoch, index, loss.item()))"
   ]
  },
  {
   "cell_type": "code",
   "execution_count": null,
   "metadata": {
    "ExecuteTime": {
     "end_time": "2020-10-23T08:28:51.276606Z",
     "start_time": "2020-10-23T08:28:50.698Z"
    }
   },
   "outputs": [],
   "source": [
    "cnn.eval()  # test case 학습 방지를 위함\n",
    "test_loss = 0\n",
    "correct = 0\n",
    "with torch.no_grad():\n",
    "  for data, target in testloader:\n",
    "    output = cnn(data)\n",
    "    test_loss += criterion(output, target).item() # sum up batch loss\n",
    "    pred = output.argmax(dim=1, keepdim=True) # get the index of the max log-probability\n",
    "    correct += pred.eq(target.view_as(pred)).sum().item()\n",
    "print('\\nTest set: Average loss: {:.4f}, Accuracy: {}/{} ({:.0f}%)\\n'.format(\n",
    "        test_loss, correct, len(testloader.dataset),\n",
    "        100. * correct / len(testloader.dataset)))"
   ]
  },
  {
   "cell_type": "markdown",
   "metadata": {},
   "source": [
    "# test\n",
    "\n",
    "https://github.com/yunjey/pytorch-tutorial/blob/master/tutorials/02-intermediate/convolutional_neural_network/main.py#L35-L56"
   ]
  },
  {
   "cell_type": "code",
   "execution_count": 13,
   "metadata": {
    "ExecuteTime": {
     "end_time": "2020-10-23T09:24:07.275546Z",
     "start_time": "2020-10-23T09:24:06.265972Z"
    }
   },
   "outputs": [
    {
     "name": "stderr",
     "output_type": "stream",
     "text": [
      "Exception ignored in: <function _MultiProcessingDataLoaderIter.__del__ at 0x7f517a0a4320>\n",
      "Exception ignored in: <function _MultiProcessingDataLoaderIter.__del__ at 0x7f517a0a4320>\n",
      "Traceback (most recent call last):\n",
      "Traceback (most recent call last):\n",
      "  File \"/opt/conda/lib/python3.7/site-packages/torch/utils/data/dataloader.py\", line 961, in __del__\n",
      "  File \"/opt/conda/lib/python3.7/site-packages/torch/utils/data/dataloader.py\", line 961, in __del__\n",
      "    self._shutdown_workers()\n",
      "    self._shutdown_workers()\n",
      "  File \"/opt/conda/lib/python3.7/site-packages/torch/utils/data/dataloader.py\", line 941, in _shutdown_workers\n",
      "  File \"/opt/conda/lib/python3.7/site-packages/torch/utils/data/dataloader.py\", line 941, in _shutdown_workers\n",
      "    w.join()\n",
      "    w.join()\n",
      "  File \"/opt/conda/lib/python3.7/multiprocessing/process.py\", line 138, in join\n",
      "  File \"/opt/conda/lib/python3.7/multiprocessing/process.py\", line 138, in join\n",
      "    assert self._parent_pid == os.getpid(), 'can only join a child process'\n",
      "    assert self._parent_pid == os.getpid(), 'can only join a child process'\n",
      "AssertionError: can only join a child process\n",
      "AssertionError: can only join a child process\n",
      "Exception ignored in: <function _MultiProcessingDataLoaderIter.__del__ at 0x7f517a0a4320>\n",
      "Exception ignored in: <function _MultiProcessingDataLoaderIter.__del__ at 0x7f517a0a4320>\n",
      "Traceback (most recent call last):\n",
      "Traceback (most recent call last):\n",
      "  File \"/opt/conda/lib/python3.7/site-packages/torch/utils/data/dataloader.py\", line 961, in __del__\n",
      "  File \"/opt/conda/lib/python3.7/site-packages/torch/utils/data/dataloader.py\", line 961, in __del__\n",
      "    self._shutdown_workers()\n",
      "    self._shutdown_workers()\n",
      "  File \"/opt/conda/lib/python3.7/site-packages/torch/utils/data/dataloader.py\", line 941, in _shutdown_workers\n",
      "  File \"/opt/conda/lib/python3.7/site-packages/torch/utils/data/dataloader.py\", line 941, in _shutdown_workers\n",
      "    w.join()\n",
      "    w.join()\n",
      "  File \"/opt/conda/lib/python3.7/multiprocessing/process.py\", line 138, in join\n",
      "  File \"/opt/conda/lib/python3.7/multiprocessing/process.py\", line 138, in join\n",
      "    assert self._parent_pid == os.getpid(), 'can only join a child process'\n",
      "    assert self._parent_pid == os.getpid(), 'can only join a child process'\n",
      "AssertionError: can only join a child process\n",
      "AssertionError: can only join a child process\n",
      "/opt/conda/lib/python3.7/site-packages/ipykernel_launcher.py:64: DeprecationWarning: The binary mode of fromstring is deprecated, as it behaves surprisingly on unicode inputs. Use frombuffer instead\n",
      "/opt/conda/lib/python3.7/site-packages/ipykernel_launcher.py:64: DeprecationWarning: The binary mode of fromstring is deprecated, as it behaves surprisingly on unicode inputs. Use frombuffer instead\n"
     ]
    },
    {
     "ename": "RuntimeError",
     "evalue": "Input type (torch.cuda.DoubleTensor) and weight type (torch.cuda.FloatTensor) should be the same",
     "output_type": "error",
     "traceback": [
      "\u001b[0;31m---------------------------------------------------------------------------\u001b[0m",
      "\u001b[0;31mRuntimeError\u001b[0m                              Traceback (most recent call last)",
      "\u001b[0;32m<ipython-input-13-959aafec48ae>\u001b[0m in \u001b[0;36m<module>\u001b[0;34m\u001b[0m\n\u001b[1;32m     46\u001b[0m \u001b[0;34m\u001b[0m\u001b[0m\n\u001b[1;32m     47\u001b[0m         \u001b[0;31m# Forward pass\u001b[0m\u001b[0;34m\u001b[0m\u001b[0;34m\u001b[0m\u001b[0;34m\u001b[0m\u001b[0m\n\u001b[0;32m---> 48\u001b[0;31m         \u001b[0moutputs\u001b[0m \u001b[0;34m=\u001b[0m \u001b[0mmodel\u001b[0m\u001b[0;34m(\u001b[0m\u001b[0mimages\u001b[0m\u001b[0;34m)\u001b[0m\u001b[0;34m\u001b[0m\u001b[0;34m\u001b[0m\u001b[0m\n\u001b[0m\u001b[1;32m     49\u001b[0m         \u001b[0mloss\u001b[0m \u001b[0;34m=\u001b[0m \u001b[0mcriterion\u001b[0m\u001b[0;34m(\u001b[0m\u001b[0moutputs\u001b[0m\u001b[0;34m,\u001b[0m \u001b[0mlabels\u001b[0m\u001b[0;34m)\u001b[0m\u001b[0;34m\u001b[0m\u001b[0;34m\u001b[0m\u001b[0m\n\u001b[1;32m     50\u001b[0m \u001b[0;34m\u001b[0m\u001b[0m\n",
      "\u001b[0;32m/opt/conda/lib/python3.7/site-packages/torch/nn/modules/module.py\u001b[0m in \u001b[0;36m__call__\u001b[0;34m(self, *input, **kwargs)\u001b[0m\n\u001b[1;32m    530\u001b[0m             \u001b[0mresult\u001b[0m \u001b[0;34m=\u001b[0m \u001b[0mself\u001b[0m\u001b[0;34m.\u001b[0m\u001b[0m_slow_forward\u001b[0m\u001b[0;34m(\u001b[0m\u001b[0;34m*\u001b[0m\u001b[0minput\u001b[0m\u001b[0;34m,\u001b[0m \u001b[0;34m**\u001b[0m\u001b[0mkwargs\u001b[0m\u001b[0;34m)\u001b[0m\u001b[0;34m\u001b[0m\u001b[0;34m\u001b[0m\u001b[0m\n\u001b[1;32m    531\u001b[0m         \u001b[0;32melse\u001b[0m\u001b[0;34m:\u001b[0m\u001b[0;34m\u001b[0m\u001b[0;34m\u001b[0m\u001b[0m\n\u001b[0;32m--> 532\u001b[0;31m             \u001b[0mresult\u001b[0m \u001b[0;34m=\u001b[0m \u001b[0mself\u001b[0m\u001b[0;34m.\u001b[0m\u001b[0mforward\u001b[0m\u001b[0;34m(\u001b[0m\u001b[0;34m*\u001b[0m\u001b[0minput\u001b[0m\u001b[0;34m,\u001b[0m \u001b[0;34m**\u001b[0m\u001b[0mkwargs\u001b[0m\u001b[0;34m)\u001b[0m\u001b[0;34m\u001b[0m\u001b[0;34m\u001b[0m\u001b[0m\n\u001b[0m\u001b[1;32m    533\u001b[0m         \u001b[0;32mfor\u001b[0m \u001b[0mhook\u001b[0m \u001b[0;32min\u001b[0m \u001b[0mself\u001b[0m\u001b[0;34m.\u001b[0m\u001b[0m_forward_hooks\u001b[0m\u001b[0;34m.\u001b[0m\u001b[0mvalues\u001b[0m\u001b[0;34m(\u001b[0m\u001b[0;34m)\u001b[0m\u001b[0;34m:\u001b[0m\u001b[0;34m\u001b[0m\u001b[0;34m\u001b[0m\u001b[0m\n\u001b[1;32m    534\u001b[0m             \u001b[0mhook_result\u001b[0m \u001b[0;34m=\u001b[0m \u001b[0mhook\u001b[0m\u001b[0;34m(\u001b[0m\u001b[0mself\u001b[0m\u001b[0;34m,\u001b[0m \u001b[0minput\u001b[0m\u001b[0;34m,\u001b[0m \u001b[0mresult\u001b[0m\u001b[0;34m)\u001b[0m\u001b[0;34m\u001b[0m\u001b[0;34m\u001b[0m\u001b[0m\n",
      "\u001b[0;32m<ipython-input-13-959aafec48ae>\u001b[0m in \u001b[0;36mforward\u001b[0;34m(self, x)\u001b[0m\n\u001b[1;32m     26\u001b[0m \u001b[0;34m\u001b[0m\u001b[0m\n\u001b[1;32m     27\u001b[0m     \u001b[0;32mdef\u001b[0m \u001b[0mforward\u001b[0m\u001b[0;34m(\u001b[0m\u001b[0mself\u001b[0m\u001b[0;34m,\u001b[0m \u001b[0mx\u001b[0m\u001b[0;34m)\u001b[0m\u001b[0;34m:\u001b[0m\u001b[0;34m\u001b[0m\u001b[0;34m\u001b[0m\u001b[0m\n\u001b[0;32m---> 28\u001b[0;31m         \u001b[0mout\u001b[0m \u001b[0;34m=\u001b[0m \u001b[0mself\u001b[0m\u001b[0;34m.\u001b[0m\u001b[0mlayer1\u001b[0m\u001b[0;34m(\u001b[0m\u001b[0mx\u001b[0m\u001b[0;34m)\u001b[0m\u001b[0;34m\u001b[0m\u001b[0;34m\u001b[0m\u001b[0m\n\u001b[0m\u001b[1;32m     29\u001b[0m         \u001b[0mout\u001b[0m \u001b[0;34m=\u001b[0m \u001b[0mself\u001b[0m\u001b[0;34m.\u001b[0m\u001b[0mlayer2\u001b[0m\u001b[0;34m(\u001b[0m\u001b[0mout\u001b[0m\u001b[0;34m)\u001b[0m\u001b[0;34m\u001b[0m\u001b[0;34m\u001b[0m\u001b[0m\n\u001b[1;32m     30\u001b[0m         \u001b[0mout\u001b[0m \u001b[0;34m=\u001b[0m \u001b[0mout\u001b[0m\u001b[0;34m.\u001b[0m\u001b[0mreshape\u001b[0m\u001b[0;34m(\u001b[0m\u001b[0mout\u001b[0m\u001b[0;34m.\u001b[0m\u001b[0msize\u001b[0m\u001b[0;34m(\u001b[0m\u001b[0;36m0\u001b[0m\u001b[0;34m)\u001b[0m\u001b[0;34m,\u001b[0m \u001b[0;34m-\u001b[0m\u001b[0;36m1\u001b[0m\u001b[0;34m)\u001b[0m\u001b[0;34m\u001b[0m\u001b[0;34m\u001b[0m\u001b[0m\n",
      "\u001b[0;32m/opt/conda/lib/python3.7/site-packages/torch/nn/modules/module.py\u001b[0m in \u001b[0;36m__call__\u001b[0;34m(self, *input, **kwargs)\u001b[0m\n\u001b[1;32m    530\u001b[0m             \u001b[0mresult\u001b[0m \u001b[0;34m=\u001b[0m \u001b[0mself\u001b[0m\u001b[0;34m.\u001b[0m\u001b[0m_slow_forward\u001b[0m\u001b[0;34m(\u001b[0m\u001b[0;34m*\u001b[0m\u001b[0minput\u001b[0m\u001b[0;34m,\u001b[0m \u001b[0;34m**\u001b[0m\u001b[0mkwargs\u001b[0m\u001b[0;34m)\u001b[0m\u001b[0;34m\u001b[0m\u001b[0;34m\u001b[0m\u001b[0m\n\u001b[1;32m    531\u001b[0m         \u001b[0;32melse\u001b[0m\u001b[0;34m:\u001b[0m\u001b[0;34m\u001b[0m\u001b[0;34m\u001b[0m\u001b[0m\n\u001b[0;32m--> 532\u001b[0;31m             \u001b[0mresult\u001b[0m \u001b[0;34m=\u001b[0m \u001b[0mself\u001b[0m\u001b[0;34m.\u001b[0m\u001b[0mforward\u001b[0m\u001b[0;34m(\u001b[0m\u001b[0;34m*\u001b[0m\u001b[0minput\u001b[0m\u001b[0;34m,\u001b[0m \u001b[0;34m**\u001b[0m\u001b[0mkwargs\u001b[0m\u001b[0;34m)\u001b[0m\u001b[0;34m\u001b[0m\u001b[0;34m\u001b[0m\u001b[0m\n\u001b[0m\u001b[1;32m    533\u001b[0m         \u001b[0;32mfor\u001b[0m \u001b[0mhook\u001b[0m \u001b[0;32min\u001b[0m \u001b[0mself\u001b[0m\u001b[0;34m.\u001b[0m\u001b[0m_forward_hooks\u001b[0m\u001b[0;34m.\u001b[0m\u001b[0mvalues\u001b[0m\u001b[0;34m(\u001b[0m\u001b[0;34m)\u001b[0m\u001b[0;34m:\u001b[0m\u001b[0;34m\u001b[0m\u001b[0;34m\u001b[0m\u001b[0m\n\u001b[1;32m    534\u001b[0m             \u001b[0mhook_result\u001b[0m \u001b[0;34m=\u001b[0m \u001b[0mhook\u001b[0m\u001b[0;34m(\u001b[0m\u001b[0mself\u001b[0m\u001b[0;34m,\u001b[0m \u001b[0minput\u001b[0m\u001b[0;34m,\u001b[0m \u001b[0mresult\u001b[0m\u001b[0;34m)\u001b[0m\u001b[0;34m\u001b[0m\u001b[0;34m\u001b[0m\u001b[0m\n",
      "\u001b[0;32m/opt/conda/lib/python3.7/site-packages/torch/nn/modules/container.py\u001b[0m in \u001b[0;36mforward\u001b[0;34m(self, input)\u001b[0m\n\u001b[1;32m     98\u001b[0m     \u001b[0;32mdef\u001b[0m \u001b[0mforward\u001b[0m\u001b[0;34m(\u001b[0m\u001b[0mself\u001b[0m\u001b[0;34m,\u001b[0m \u001b[0minput\u001b[0m\u001b[0;34m)\u001b[0m\u001b[0;34m:\u001b[0m\u001b[0;34m\u001b[0m\u001b[0;34m\u001b[0m\u001b[0m\n\u001b[1;32m     99\u001b[0m         \u001b[0;32mfor\u001b[0m \u001b[0mmodule\u001b[0m \u001b[0;32min\u001b[0m \u001b[0mself\u001b[0m\u001b[0;34m:\u001b[0m\u001b[0;34m\u001b[0m\u001b[0;34m\u001b[0m\u001b[0m\n\u001b[0;32m--> 100\u001b[0;31m             \u001b[0minput\u001b[0m \u001b[0;34m=\u001b[0m \u001b[0mmodule\u001b[0m\u001b[0;34m(\u001b[0m\u001b[0minput\u001b[0m\u001b[0;34m)\u001b[0m\u001b[0;34m\u001b[0m\u001b[0;34m\u001b[0m\u001b[0m\n\u001b[0m\u001b[1;32m    101\u001b[0m         \u001b[0;32mreturn\u001b[0m \u001b[0minput\u001b[0m\u001b[0;34m\u001b[0m\u001b[0;34m\u001b[0m\u001b[0m\n\u001b[1;32m    102\u001b[0m \u001b[0;34m\u001b[0m\u001b[0m\n",
      "\u001b[0;32m/opt/conda/lib/python3.7/site-packages/torch/nn/modules/module.py\u001b[0m in \u001b[0;36m__call__\u001b[0;34m(self, *input, **kwargs)\u001b[0m\n\u001b[1;32m    530\u001b[0m             \u001b[0mresult\u001b[0m \u001b[0;34m=\u001b[0m \u001b[0mself\u001b[0m\u001b[0;34m.\u001b[0m\u001b[0m_slow_forward\u001b[0m\u001b[0;34m(\u001b[0m\u001b[0;34m*\u001b[0m\u001b[0minput\u001b[0m\u001b[0;34m,\u001b[0m \u001b[0;34m**\u001b[0m\u001b[0mkwargs\u001b[0m\u001b[0;34m)\u001b[0m\u001b[0;34m\u001b[0m\u001b[0;34m\u001b[0m\u001b[0m\n\u001b[1;32m    531\u001b[0m         \u001b[0;32melse\u001b[0m\u001b[0;34m:\u001b[0m\u001b[0;34m\u001b[0m\u001b[0;34m\u001b[0m\u001b[0m\n\u001b[0;32m--> 532\u001b[0;31m             \u001b[0mresult\u001b[0m \u001b[0;34m=\u001b[0m \u001b[0mself\u001b[0m\u001b[0;34m.\u001b[0m\u001b[0mforward\u001b[0m\u001b[0;34m(\u001b[0m\u001b[0;34m*\u001b[0m\u001b[0minput\u001b[0m\u001b[0;34m,\u001b[0m \u001b[0;34m**\u001b[0m\u001b[0mkwargs\u001b[0m\u001b[0;34m)\u001b[0m\u001b[0;34m\u001b[0m\u001b[0;34m\u001b[0m\u001b[0m\n\u001b[0m\u001b[1;32m    533\u001b[0m         \u001b[0;32mfor\u001b[0m \u001b[0mhook\u001b[0m \u001b[0;32min\u001b[0m \u001b[0mself\u001b[0m\u001b[0;34m.\u001b[0m\u001b[0m_forward_hooks\u001b[0m\u001b[0;34m.\u001b[0m\u001b[0mvalues\u001b[0m\u001b[0;34m(\u001b[0m\u001b[0;34m)\u001b[0m\u001b[0;34m:\u001b[0m\u001b[0;34m\u001b[0m\u001b[0;34m\u001b[0m\u001b[0m\n\u001b[1;32m    534\u001b[0m             \u001b[0mhook_result\u001b[0m \u001b[0;34m=\u001b[0m \u001b[0mhook\u001b[0m\u001b[0;34m(\u001b[0m\u001b[0mself\u001b[0m\u001b[0;34m,\u001b[0m \u001b[0minput\u001b[0m\u001b[0;34m,\u001b[0m \u001b[0mresult\u001b[0m\u001b[0;34m)\u001b[0m\u001b[0;34m\u001b[0m\u001b[0;34m\u001b[0m\u001b[0m\n",
      "\u001b[0;32m/opt/conda/lib/python3.7/site-packages/torch/nn/modules/conv.py\u001b[0m in \u001b[0;36mforward\u001b[0;34m(self, input)\u001b[0m\n\u001b[1;32m    343\u001b[0m \u001b[0;34m\u001b[0m\u001b[0m\n\u001b[1;32m    344\u001b[0m     \u001b[0;32mdef\u001b[0m \u001b[0mforward\u001b[0m\u001b[0;34m(\u001b[0m\u001b[0mself\u001b[0m\u001b[0;34m,\u001b[0m \u001b[0minput\u001b[0m\u001b[0;34m)\u001b[0m\u001b[0;34m:\u001b[0m\u001b[0;34m\u001b[0m\u001b[0;34m\u001b[0m\u001b[0m\n\u001b[0;32m--> 345\u001b[0;31m         \u001b[0;32mreturn\u001b[0m \u001b[0mself\u001b[0m\u001b[0;34m.\u001b[0m\u001b[0mconv2d_forward\u001b[0m\u001b[0;34m(\u001b[0m\u001b[0minput\u001b[0m\u001b[0;34m,\u001b[0m \u001b[0mself\u001b[0m\u001b[0;34m.\u001b[0m\u001b[0mweight\u001b[0m\u001b[0;34m)\u001b[0m\u001b[0;34m\u001b[0m\u001b[0;34m\u001b[0m\u001b[0m\n\u001b[0m\u001b[1;32m    346\u001b[0m \u001b[0;34m\u001b[0m\u001b[0m\n\u001b[1;32m    347\u001b[0m \u001b[0;32mclass\u001b[0m \u001b[0mConv3d\u001b[0m\u001b[0;34m(\u001b[0m\u001b[0m_ConvNd\u001b[0m\u001b[0;34m)\u001b[0m\u001b[0;34m:\u001b[0m\u001b[0;34m\u001b[0m\u001b[0;34m\u001b[0m\u001b[0m\n",
      "\u001b[0;32m/opt/conda/lib/python3.7/site-packages/torch/nn/modules/conv.py\u001b[0m in \u001b[0;36mconv2d_forward\u001b[0;34m(self, input, weight)\u001b[0m\n\u001b[1;32m    340\u001b[0m                             _pair(0), self.dilation, self.groups)\n\u001b[1;32m    341\u001b[0m         return F.conv2d(input, weight, self.bias, self.stride,\n\u001b[0;32m--> 342\u001b[0;31m                         self.padding, self.dilation, self.groups)\n\u001b[0m\u001b[1;32m    343\u001b[0m \u001b[0;34m\u001b[0m\u001b[0m\n\u001b[1;32m    344\u001b[0m     \u001b[0;32mdef\u001b[0m \u001b[0mforward\u001b[0m\u001b[0;34m(\u001b[0m\u001b[0mself\u001b[0m\u001b[0;34m,\u001b[0m \u001b[0minput\u001b[0m\u001b[0;34m)\u001b[0m\u001b[0;34m:\u001b[0m\u001b[0;34m\u001b[0m\u001b[0;34m\u001b[0m\u001b[0m\n",
      "\u001b[0;31mRuntimeError\u001b[0m: Input type (torch.cuda.DoubleTensor) and weight type (torch.cuda.FloatTensor) should be the same"
     ]
    }
   ],
   "source": [
    "# Device configuration\n",
    "device = torch.device('cuda:0' if torch.cuda.is_available() else 'cpu')\n",
    "\n",
    "# Hyper parameters\n",
    "num_epochs = 5\n",
    "num_classes = 2\n",
    "batch_size = 2\n",
    "learning_rate = 0.001\n",
    "\n",
    "\n",
    "# Convolutional neural network (two convolutional layers)\n",
    "class ConvNet(nn.Module):\n",
    "    def __init__(self, num_classes=2):\n",
    "        super(ConvNet, self).__init__()\n",
    "        self.layer1 = nn.Sequential(\n",
    "            nn.Conv2d(3, 10, kernel_size=3, stride=1),\n",
    "            nn.BatchNorm2d(10),\n",
    "            nn.ReLU(),\n",
    "            nn.MaxPool2d(kernel_size=2, stride=2))\n",
    "        self.layer2 = nn.Sequential(\n",
    "            nn.Conv2d(10, 50, kernel_size=3, stride=1),\n",
    "            nn.BatchNorm2d(50),\n",
    "            nn.ReLU(),\n",
    "            nn.MaxPool2d(kernel_size=2, stride=2))\n",
    "        self.fc = nn.Linear(57800, num_classes)\n",
    "        \n",
    "    def forward(self, x):\n",
    "        out = self.layer1(x)\n",
    "        out = self.layer2(out)\n",
    "        out = out.reshape(out.size(0), -1)\n",
    "        out = self.fc(out)\n",
    "        return out\n",
    "\n",
    "model = ConvNet(num_classes).to(device)\n",
    "\n",
    "# Loss and optimizer\n",
    "criterion = nn.CrossEntropyLoss()\n",
    "optimizer = torch.optim.Adam(model.parameters(), lr=learning_rate)\n",
    "\n",
    "# Train the model\n",
    "total_step = len(trainloader)\n",
    "for epoch in range(num_epochs):\n",
    "    for i, (images, labels) in enumerate(trainloader):\n",
    "        images = images.to(device)\n",
    "        labels = labels.to(device)\n",
    "        \n",
    "        # Forward pass\n",
    "        outputs = model(images)\n",
    "        loss = criterion(outputs, labels)\n",
    "        \n",
    "        # Backward and optimize\n",
    "        optimizer.zero_grad()\n",
    "        loss.backward()\n",
    "        optimizer.step()\n",
    "        \n",
    "        if (i+1) % 100 == 0:\n",
    "            print ('Epoch [{}/{}], Step [{}/{}], Loss: {:.4f}' \n",
    "                   .format(epoch+1, num_epochs, i+1, total_step, loss.item()))\n",
    "\n",
    "# Test the model\n",
    "model.eval()  # eval mode (batchnorm uses moving mean/variance instead of mini-batch mean/variance)\n",
    "with torch.no_grad():\n",
    "    correct = 0\n",
    "    total = 0\n",
    "    for images, labels in testloader:\n",
    "        images = images.to(device)\n",
    "        labels = labels.to(device)\n",
    "        outputs = model(images)\n",
    "        _, predicted = torch.max(outputs.data, 1)\n",
    "        total += labels.size(0)\n",
    "        correct += (predicted == labels).sum().item()\n",
    "\n",
    "    print('Test Accuracy of the model on the 10000 test images: {} %'.format(100 * correct / total))\n"
   ]
  },
  {
   "cell_type": "code",
   "execution_count": null,
   "metadata": {},
   "outputs": [],
   "source": []
  }
 ],
 "metadata": {
  "kernelspec": {
   "display_name": "Python 3",
   "language": "python",
   "name": "python3"
  },
  "language_info": {
   "codemirror_mode": {
    "name": "ipython",
    "version": 3
   },
   "file_extension": ".py",
   "mimetype": "text/x-python",
   "name": "python",
   "nbconvert_exporter": "python",
   "pygments_lexer": "ipython3",
   "version": "3.7.6"
  },
  "toc": {
   "base_numbering": 1,
   "nav_menu": {},
   "number_sections": false,
   "sideBar": true,
   "skip_h1_title": false,
   "title_cell": "Table of Contents",
   "title_sidebar": "Contents",
   "toc_cell": false,
   "toc_position": {},
   "toc_section_display": true,
   "toc_window_display": false
  }
 },
 "nbformat": 4,
 "nbformat_minor": 2
}
