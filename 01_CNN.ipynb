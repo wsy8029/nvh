{
 "cells": [
  {
   "cell_type": "code",
   "execution_count": 1,
   "metadata": {
    "ExecuteTime": {
     "end_time": "2020-10-20T06:34:52.322808Z",
     "start_time": "2020-10-20T06:34:51.971581Z"
    }
   },
   "outputs": [],
   "source": [
    "import itertools\n",
    "\n",
    "import torch \n",
    "import torch.nn as nn\n",
    "import torch.nn.functional as F\n",
    "import torch.optim as optim\n",
    "from torchvision import datasets, transforms\n",
    "\n",
    "from IPython.display import Image\n",
    "from IPython import display\n",
    "import matplotlib.pyplot as plt\n",
    "\n",
    "%matplotlib inline"
   ]
  },
  {
   "cell_type": "code",
   "execution_count": 2,
   "metadata": {
    "ExecuteTime": {
     "end_time": "2020-10-20T06:35:07.901172Z",
     "start_time": "2020-10-20T06:35:07.861009Z"
    }
   },
   "outputs": [
    {
     "data": {
      "text/plain": [
       "'Tesla K80'"
      ]
     },
     "execution_count": 2,
     "metadata": {},
     "output_type": "execute_result"
    }
   ],
   "source": [
    "\n",
    "torch.cuda.get_device_name(0)"
   ]
  },
  {
   "cell_type": "code",
   "execution_count": 3,
   "metadata": {
    "ExecuteTime": {
     "end_time": "2020-10-20T06:35:14.760684Z",
     "start_time": "2020-10-20T06:35:14.737816Z"
    }
   },
   "outputs": [],
   "source": [
    "# prepare batch_loader \n",
    "batch_size=64\n",
    "trn_dataset = datasets.MNIST('../mnist_data/',\n",
    "                             download=True,\n",
    "                             train=True,\n",
    "                             transform=transforms.Compose([\n",
    "                                 transforms.ToTensor(), # image to Tensor\n",
    "                                 transforms.Normalize((0.1307,), (0.3081,)) # image, label\n",
    "                             ])) \n",
    "\n",
    "trn_loader = torch.utils.data.DataLoader(trn_dataset,\n",
    "                                         batch_size=batch_size,\n",
    "                                         shuffle=True)"
   ]
  },
  {
   "cell_type": "code",
   "execution_count": 4,
   "metadata": {
    "ExecuteTime": {
     "end_time": "2020-10-20T06:35:15.838437Z",
     "start_time": "2020-10-20T06:35:15.830609Z"
    }
   },
   "outputs": [],
   "source": [
    "val_dataset = datasets.MNIST(\"../mnist_data/\", \n",
    "                             download=False,\n",
    "                             train=False,\n",
    "                             transform= transforms.Compose([\n",
    "                               transforms.ToTensor(),\n",
    "                               transforms.Normalize((0.1307, ),(0.3081, ))\n",
    "                           ]))\n",
    "\n",
    "val_loader = torch.utils.data.DataLoader(val_dataset,\n",
    "                                         batch_size=batch_size,\n",
    "                                         shuffle=True)"
   ]
  },
  {
   "cell_type": "code",
   "execution_count": 5,
   "metadata": {
    "ExecuteTime": {
     "end_time": "2020-10-20T06:35:16.787109Z",
     "start_time": "2020-10-20T06:35:16.784479Z"
    }
   },
   "outputs": [],
   "source": [
    "num_batches = len(trn_loader)"
   ]
  },
  {
   "cell_type": "code",
   "execution_count": 6,
   "metadata": {
    "ExecuteTime": {
     "end_time": "2020-10-20T06:35:23.298070Z",
     "start_time": "2020-10-20T06:35:23.276646Z"
    }
   },
   "outputs": [],
   "source": [
    "data = next(iter(trn_loader))"
   ]
  },
  {
   "cell_type": "code",
   "execution_count": 7,
   "metadata": {
    "ExecuteTime": {
     "end_time": "2020-10-20T06:35:24.193784Z",
     "start_time": "2020-10-20T06:35:24.191205Z"
    }
   },
   "outputs": [],
   "source": [
    "img, label = data"
   ]
  },
  {
   "cell_type": "code",
   "execution_count": 8,
   "metadata": {
    "ExecuteTime": {
     "end_time": "2020-10-20T06:35:24.759012Z",
     "start_time": "2020-10-20T06:35:24.755163Z"
    }
   },
   "outputs": [
    {
     "data": {
      "text/plain": [
       "torch.Size([64, 1, 28, 28])"
      ]
     },
     "execution_count": 8,
     "metadata": {},
     "output_type": "execute_result"
    }
   ],
   "source": [
    "img.size() # batch_size, num_channel, x, y"
   ]
  },
  {
   "cell_type": "code",
   "execution_count": 9,
   "metadata": {
    "ExecuteTime": {
     "end_time": "2020-10-20T06:35:25.651471Z",
     "start_time": "2020-10-20T06:35:25.647688Z"
    }
   },
   "outputs": [
    {
     "data": {
      "text/plain": [
       "torch.Size([64])"
      ]
     },
     "execution_count": 9,
     "metadata": {},
     "output_type": "execute_result"
    }
   ],
   "source": [
    "label.size() # 0~9까지의 숫자가 batch_size 만큼"
   ]
  },
  {
   "cell_type": "code",
   "execution_count": 10,
   "metadata": {
    "ExecuteTime": {
     "end_time": "2020-10-20T06:35:27.976803Z",
     "start_time": "2020-10-20T06:35:26.887561Z"
    }
   },
   "outputs": [
    {
     "data": {
      "image/png": "[encoded data removed]",
      "text/plain": [
       "<Figure size 432x432 with 20 Axes>"
      ]
     },
     "metadata": {
      "needs_background": "light"
     },
     "output_type": "display_data"
    }
   ],
   "source": [
    "# create figure for plotting\n",
    "row_num = 5\n",
    "col_num = 4\n",
    "fig, ax = plt.subplots(row_num, col_num, figsize=(6,6))\n",
    "for i, j in itertools.product(range(row_num), range(col_num)):\n",
    "    ax[i,j].get_xaxis().set_visible(False)\n",
    "    ax[i,j].get_yaxis().set_visible(False)\n",
    "    \n",
    "    \n",
    "for k in range(row_num*col_num):\n",
    "    i = k//col_num\n",
    "    j = k%col_num\n",
    "    ax[i,j].cla() # clear the current axis\n",
    "    ax[i,j].imshow(img[k,:].data.cpu().numpy().reshape(28,28), cmap='Greys')"
   ]
  },
  {
   "cell_type": "code",
   "execution_count": 17,
   "metadata": {
    "ExecuteTime": {
     "end_time": "2020-10-20T06:37:18.443551Z",
     "start_time": "2020-10-20T06:37:18.432108Z"
    }
   },
   "outputs": [
    {
     "data": {
      "text/plain": [
       "array([[-0.42421296, -0.42421296, -0.42421296, -0.42421296, -0.42421296,\n",
       "        -0.42421296, -0.42421296, -0.42421296, -0.42421296, -0.42421296,\n",
       "        -0.42421296, -0.42421296, -0.42421296, -0.42421296, -0.42421296,\n",
       "        -0.42421296, -0.42421296, -0.42421296, -0.42421296, -0.42421296,\n",
       "        -0.42421296, -0.42421296, -0.42421296, -0.42421296, -0.42421296,\n",
       "        -0.42421296, -0.42421296, -0.42421296],\n",
       "       [-0.42421296, -0.42421296, -0.42421296, -0.42421296, -0.42421296,\n",
       "        -0.42421296, -0.42421296, -0.42421296, -0.42421296, -0.42421296,\n",
       "        -0.42421296, -0.42421296, -0.42421296, -0.42421296, -0.42421296,\n",
       "        -0.42421296, -0.42421296, -0.42421296, -0.42421296, -0.42421296,\n",
       "        -0.42421296, -0.42421296, -0.42421296, -0.42421296, -0.42421296,\n",
       "        -0.42421296, -0.42421296, -0.42421296],\n",
       "       [-0.42421296, -0.42421296, -0.42421296, -0.42421296, -0.42421296,\n",
       "        -0.42421296, -0.42421296, -0.42421296, -0.42421296, -0.42421296,\n",
       "        -0.42421296, -0.42421296, -0.42421296, -0.42421296, -0.42421296,\n",
       "        -0.42421296,  0.21219873,  2.5541937 ,  1.9814233 , -0.42421296,\n",
       "        -0.42421296, -0.42421296, -0.42421296, -0.42421296, -0.42421296,\n",
       "        -0.42421296, -0.42421296, -0.42421296],\n",
       "       [-0.42421296, -0.42421296, -0.42421296, -0.42421296, -0.42421296,\n",
       "        -0.42421296, -0.42421296, -0.42421296, -0.42421296, -0.42421296,\n",
       "        -0.42421296, -0.42421296, -0.42421296, -0.42421296, -0.42421296,\n",
       "        -0.42421296,  1.2050011 ,  2.7960303 ,  2.7960303 ,  0.65768695,\n",
       "        -0.42421296, -0.42421296, -0.42421296, -0.42421296, -0.42421296,\n",
       "        -0.42421296, -0.42421296, -0.42421296],\n",
       "       [-0.42421296, -0.42421296, -0.42421296, -0.42421296, -0.42421296,\n",
       "        -0.42421296, -0.42421296, -0.42421296, -0.42421296, -0.42421296,\n",
       "        -0.42421296, -0.42421296, -0.42421296, -0.42421296, -0.42421296,\n",
       "        -0.06782241,  2.401455  ,  2.7960303 ,  2.6305633 ,  0.1612858 ,\n",
       "        -0.42421296, -0.42421296, -0.42421296, -0.42421296, -0.42421296,\n",
       "        -0.42421296, -0.42421296, -0.42421296],\n",
       "       [-0.42421296, -0.42421296, -0.42421296, -0.42421296, -0.42421296,\n",
       "        -0.42421296, -0.42421296, -0.42421296, -0.42421296, -0.42421296,\n",
       "        -0.42421296, -0.42421296, -0.42421296, -0.42421296, -0.01690946,\n",
       "         1.3450117 ,  2.7960303 ,  2.6051068 ,  0.3522093 , -0.42421296,\n",
       "        -0.42421296, -0.42421296, -0.42421296, -0.42421296, -0.42421296,\n",
       "        -0.42421296, -0.42421296, -0.42421296],\n",
       "       [-0.42421296, -0.42421296, -0.42421296, -0.42421296, -0.42421296,\n",
       "        -0.42421296, -0.42421296, -0.42421296, -0.42421296, -0.42421296,\n",
       "        -0.42421296, -0.42421296, -0.42421296, -0.42421296,  2.1468904 ,\n",
       "         2.7960303 ,  2.7960303 ,  0.59404576, -0.42421296, -0.42421296,\n",
       "        -0.42421296, -0.42421296, -0.42421296, -0.42421296, -0.42421296,\n",
       "        -0.42421296, -0.42421296, -0.42421296],\n",
       "       [-0.42421296, -0.42421296, -0.42421296, -0.42421296, -0.42421296,\n",
       "        -0.42421296, -0.42421296, -0.42421296, -0.42421296, -0.42421296,\n",
       "        -0.42421296, -0.42421296, -0.27147415,  1.6504892 ,  2.8214867 ,\n",
       "         2.8087585 ,  1.8414128 , -0.16964827, -0.42421296, -0.42421296,\n",
       "        -0.42421296, -0.42421296, -0.42421296, -0.42421296, -0.42421296,\n",
       "        -0.42421296, -0.42421296, -0.42421296],\n",
       "       [-0.42421296, -0.42421296, -0.42421296, -0.42421296, -0.42421296,\n",
       "        -0.42421296, -0.42421296, -0.42421296, -0.42421296, -0.42421296,\n",
       "        -0.42421296, -0.42421296,  0.05945994,  2.7960303 ,  2.8087585 ,\n",
       "         0.65768695,  0.03400347, -0.42421296, -0.42421296, -0.42421296,\n",
       "        -0.42421296, -0.42421296, -0.42421296, -0.42421296, -0.42421296,\n",
       "        -0.42421296, -0.42421296, -0.42421296],\n",
       "       [-0.42421296, -0.42421296, -0.42421296, -0.42421296, -0.42421296,\n",
       "        -0.42421296, -0.42421296, -0.42421296, -0.42421296, -0.42421296,\n",
       "        -0.42421296, -0.01690946,  2.286901  ,  2.7960303 ,  2.8087585 ,\n",
       "        -0.10600711, -0.3605718 , -0.42421296, -0.42421296, -0.42421296,\n",
       "        -0.42421296, -0.42421296, -0.42421296, -0.42421296, -0.42421296,\n",
       "        -0.42421296, -0.42421296, -0.42421296],\n",
       "       [-0.42421296, -0.42421296, -0.42421296, -0.42421296, -0.42421296,\n",
       "        -0.42421296, -0.42421296, -0.42421296, -0.42421296, -0.42421296,\n",
       "        -0.42421296,  1.2050011 ,  2.7960303 ,  2.7960303 ,  0.26311168,\n",
       "        -0.37330002, -0.42421296, -0.42421296, -0.42421296, -0.42421296,\n",
       "        -0.42421296, -0.42421296, -0.42421296, -0.42421296, -0.42421296,\n",
       "        -0.42421296, -0.42421296, -0.42421296],\n",
       "       [-0.42421296, -0.42421296, -0.42421296, -0.42421296, -0.42421296,\n",
       "        -0.42421296, -0.42421296, -0.42421296, -0.42421296, -0.42421296,\n",
       "        -0.42421296,  1.5995764 ,  2.7960303 ,  1.968695  , -0.42421296,\n",
       "        -0.42421296, -0.42421296, -0.42421296, -0.42421296, -0.42421296,\n",
       "        -0.42421296, -0.42421296, -0.42421296, -0.42421296, -0.42421296,\n",
       "        -0.42421296, -0.42421296, -0.42421296],\n",
       "       [-0.42421296, -0.42421296, -0.42421296, -0.42421296, -0.42421296,\n",
       "        -0.42421296, -0.42421296, -0.42421296, -0.42421296, -0.42421296,\n",
       "         0.2758399 ,  2.8087585 ,  2.6560197 , -0.09327888, -0.42421296,\n",
       "        -0.42421296, -0.42421296, -0.42421296, -0.42421296, -0.42421296,\n",
       "        -0.42421296, -0.42421296, -0.42421296, -0.42421296, -0.42421296,\n",
       "        -0.42421296, -0.42421296, -0.42421296],\n",
       "       [-0.42421296, -0.42421296, -0.42421296, -0.42421296, -0.42421296,\n",
       "        -0.42421296, -0.42421296, -0.42421296, -0.42421296, -0.2205612 ,\n",
       "         2.4650962 ,  2.7960303 ,  1.8923256 , -0.42421296,  0.2758399 ,\n",
       "         1.5868481 ,  1.9941516 ,  2.3250856 ,  2.1596186 , -0.16964827,\n",
       "        -0.42421296, -0.42421296, -0.42421296, -0.42421296, -0.42421296,\n",
       "        -0.42421296, -0.42421296, -0.42421296],\n",
       "       [-0.42421296, -0.42421296, -0.42421296, -0.42421296, -0.42421296,\n",
       "        -0.42421296, -0.42421296, -0.42421296, -0.42421296,  0.50494814,\n",
       "         2.7960303 ,  2.7960303 ,  2.0959773 ,  1.5995764 ,  2.8087585 ,\n",
       "         2.7960303 ,  2.7960303 ,  2.7960303 ,  2.7960303 ,  0.73405635,\n",
       "        -0.42421296, -0.42421296, -0.42421296, -0.42421296, -0.42421296,\n",
       "        -0.42421296, -0.42421296, -0.42421296],\n",
       "       [-0.42421296, -0.42421296, -0.42421296, -0.42421296, -0.42421296,\n",
       "        -0.42421296, -0.42421296, -0.42421296, -0.42421296,  0.59404576,\n",
       "         2.7960303 ,  2.7960303 ,  2.7960303 ,  2.7960303 ,  2.8087585 ,\n",
       "         2.5796502 ,  1.7650434 ,  2.7960303 ,  2.7960303 ,  0.73405635,\n",
       "        -0.42421296, -0.42421296, -0.42421296, -0.42421296, -0.42421296,\n",
       "        -0.42421296, -0.42421296, -0.42421296],\n",
       "       [-0.42421296, -0.42421296, -0.42421296, -0.42421296, -0.42421296,\n",
       "        -0.42421296, -0.42421296, -0.42421296, -0.42421296,  2.4778244 ,\n",
       "         2.7960303 ,  2.7960303 ,  2.7960303 ,  2.7960303 ,  0.49221992,\n",
       "        -0.3605718 ,  1.2686423 ,  2.7960303 ,  2.7960303 ,  0.73405635,\n",
       "        -0.42421296, -0.42421296, -0.42421296, -0.42421296, -0.42421296,\n",
       "        -0.42421296, -0.42421296, -0.42421296],\n",
       "       [-0.42421296, -0.42421296, -0.42421296, -0.42421296, -0.42421296,\n",
       "        -0.42421296, -0.42421296, -0.42421296,  0.74678457,  2.8214867 ,\n",
       "         2.8087585 ,  2.8087585 ,  2.732389  ,  0.64495873, -0.42421296,\n",
       "         0.69587165,  2.6432915 ,  2.8087585 ,  2.8087585 ,  0.74678457,\n",
       "        -0.42421296, -0.42421296, -0.42421296, -0.42421296, -0.42421296,\n",
       "        -0.42421296, -0.42421296, -0.42421296],\n",
       "       [-0.42421296, -0.42421296, -0.42421296, -0.42421296, -0.42421296,\n",
       "        -0.42421296, -0.42421296, -0.42421296,  1.154088  ,  2.8087585 ,\n",
       "         2.7960303 ,  2.7960303 ,  1.6504892 , -0.42421296,  1.0268056 ,\n",
       "         2.6942043 ,  2.7960303 ,  2.7960303 ,  2.5414655 ,  0.07218818,\n",
       "        -0.42421296, -0.42421296, -0.42421296, -0.42421296, -0.42421296,\n",
       "        -0.42421296, -0.42421296, -0.42421296],\n",
       "       [-0.42421296, -0.42421296, -0.42421296, -0.42421296, -0.42421296,\n",
       "        -0.42421296, -0.42421296, -0.42421296,  0.73405635,  2.8087585 ,\n",
       "         2.7960303 ,  2.7960303 ,  1.523207  ,  2.019608  ,  2.8087585 ,\n",
       "         2.7960303 ,  2.7960303 ,  2.350542  ,  0.1994705 , -0.42421296,\n",
       "        -0.42421296, -0.42421296, -0.42421296, -0.42421296, -0.42421296,\n",
       "        -0.42421296, -0.42421296, -0.42421296],\n",
       "       [-0.42421296, -0.42421296, -0.42421296, -0.42421296, -0.42421296,\n",
       "        -0.42421296, -0.42421296, -0.42421296, -0.16964827,  1.3959246 ,\n",
       "         2.7960303 ,  2.7960303 ,  2.7960303 ,  2.7960303 ,  2.8087585 ,\n",
       "         2.3250856 ,  1.2431858 , -0.27147415, -0.42421296, -0.42421296,\n",
       "        -0.42421296, -0.42421296, -0.42421296, -0.42421296, -0.42421296,\n",
       "        -0.42421296, -0.42421296, -0.42421296],\n",
       "       [-0.42421296, -0.42421296, -0.42421296, -0.42421296, -0.42421296,\n",
       "        -0.42421296, -0.42421296, -0.42421296, -0.42421296, -0.15692005,\n",
       "         1.154088  ,  2.6305633 ,  2.7069325 ,  1.2177293 ,  0.49221992,\n",
       "        -0.3605718 , -0.42421296, -0.42421296, -0.42421296, -0.42421296,\n",
       "        -0.42421296, -0.42421296, -0.42421296, -0.42421296, -0.42421296,\n",
       "        -0.42421296, -0.42421296, -0.42421296],\n",
       "       [-0.42421296, -0.42421296, -0.42421296, -0.42421296, -0.42421296,\n",
       "        -0.42421296, -0.42421296, -0.42421296, -0.42421296, -0.42421296,\n",
       "        -0.42421296, -0.42421296, -0.42421296, -0.42421296, -0.42421296,\n",
       "        -0.42421296, -0.42421296, -0.42421296, -0.42421296, -0.42421296,\n",
       "        -0.42421296, -0.42421296, -0.42421296, -0.42421296, -0.42421296,\n",
       "        -0.42421296, -0.42421296, -0.42421296],\n",
       "       [-0.42421296, -0.42421296, -0.42421296, -0.42421296, -0.42421296,\n",
       "        -0.42421296, -0.42421296, -0.42421296, -0.42421296, -0.42421296,\n",
       "        -0.42421296, -0.42421296, -0.42421296, -0.42421296, -0.42421296,\n",
       "        -0.42421296, -0.42421296, -0.42421296, -0.42421296, -0.42421296,\n",
       "        -0.42421296, -0.42421296, -0.42421296, -0.42421296, -0.42421296,\n",
       "        -0.42421296, -0.42421296, -0.42421296],\n",
       "       [-0.42421296, -0.42421296, -0.42421296, -0.42421296, -0.42421296,\n",
       "        -0.42421296, -0.42421296, -0.42421296, -0.42421296, -0.42421296,\n",
       "        -0.42421296, -0.42421296, -0.42421296, -0.42421296, -0.42421296,\n",
       "        -0.42421296, -0.42421296, -0.42421296, -0.42421296, -0.42421296,\n",
       "        -0.42421296, -0.42421296, -0.42421296, -0.42421296, -0.42421296,\n",
       "        -0.42421296, -0.42421296, -0.42421296],\n",
       "       [-0.42421296, -0.42421296, -0.42421296, -0.42421296, -0.42421296,\n",
       "        -0.42421296, -0.42421296, -0.42421296, -0.42421296, -0.42421296,\n",
       "        -0.42421296, -0.42421296, -0.42421296, -0.42421296, -0.42421296,\n",
       "        -0.42421296, -0.42421296, -0.42421296, -0.42421296, -0.42421296,\n",
       "        -0.42421296, -0.42421296, -0.42421296, -0.42421296, -0.42421296,\n",
       "        -0.42421296, -0.42421296, -0.42421296],\n",
       "       [-0.42421296, -0.42421296, -0.42421296, -0.42421296, -0.42421296,\n",
       "        -0.42421296, -0.42421296, -0.42421296, -0.42421296, -0.42421296,\n",
       "        -0.42421296, -0.42421296, -0.42421296, -0.42421296, -0.42421296,\n",
       "        -0.42421296, -0.42421296, -0.42421296, -0.42421296, -0.42421296,\n",
       "        -0.42421296, -0.42421296, -0.42421296, -0.42421296, -0.42421296,\n",
       "        -0.42421296, -0.42421296, -0.42421296],\n",
       "       [-0.42421296, -0.42421296, -0.42421296, -0.42421296, -0.42421296,\n",
       "        -0.42421296, -0.42421296, -0.42421296, -0.42421296, -0.42421296,\n",
       "        -0.42421296, -0.42421296, -0.42421296, -0.42421296, -0.42421296,\n",
       "        -0.42421296, -0.42421296, -0.42421296, -0.42421296, -0.42421296,\n",
       "        -0.42421296, -0.42421296, -0.42421296, -0.42421296, -0.42421296,\n",
       "        -0.42421296, -0.42421296, -0.42421296]], dtype=float32)"
      ]
     },
     "execution_count": 17,
     "metadata": {},
     "output_type": "execute_result"
    }
   ],
   "source": [
    "img[1,:].data.cpu().numpy().reshape(28,28)"
   ]
  },
  {
   "cell_type": "code",
   "execution_count": 11,
   "metadata": {
    "ExecuteTime": {
     "end_time": "2020-10-19T10:06:17.138815Z",
     "start_time": "2020-10-19T10:06:17.132446Z"
    }
   },
   "outputs": [
    {
     "data": {
      "text/html": [
       "<img src=\"https://9bow.github.io/PyTorch-tutorials-kr/_images/mnist.png\"/>"
      ],
      "text/plain": [
       "<IPython.core.display.Image object>"
      ]
     },
     "execution_count": 11,
     "metadata": {},
     "output_type": "execute_result"
    }
   ],
   "source": [
    "Image(url= \"https://9bow.github.io/PyTorch-tutorials-kr/_images/mnist.png\")"
   ]
  },
  {
   "cell_type": "code",
   "execution_count": 12,
   "metadata": {
    "ExecuteTime": {
     "end_time": "2020-10-19T10:06:34.288193Z",
     "start_time": "2020-10-19T10:06:34.279619Z"
    }
   },
   "outputs": [],
   "source": [
    "# construct model on cuda if available\n",
    "\n",
    "use_cuda = torch.cuda.is_available()\n",
    "\n",
    "class CNNClassifier(nn.Module):\n",
    "    \n",
    "    def __init__(self):\n",
    "        # 항상 torch.nn.Module을 상속받고 시작\n",
    "        super(CNNClassifier, self).__init__()\n",
    "        conv1 = nn.Conv2d(1, 6, 5, 1) # 6@24*24\n",
    "        # activation ReLU\n",
    "        pool1 = nn.MaxPool2d(2) # 6@12*12\n",
    "        conv2 = nn.Conv2d(6, 16, 5, 1) # 16@8*8\n",
    "        # activation ReLU\n",
    "        pool2 = nn.MaxPool2d(2) # 16@4*4\n",
    "        \n",
    "        self.conv_module = nn.Sequential(\n",
    "            conv1,\n",
    "            nn.ReLU(),\n",
    "            pool1,\n",
    "            conv2,\n",
    "            nn.ReLU(),\n",
    "            pool2\n",
    "        )\n",
    "        \n",
    "        fc1 = nn.Linear(16*4*4, 120)\n",
    "        # activation ReLU\n",
    "        fc2 = nn.Linear(120, 84)\n",
    "        # activation ReLU\n",
    "        fc3 = nn.Linear(84, 10)\n",
    "\n",
    "        self.fc_module = nn.Sequential(\n",
    "            fc1,\n",
    "            nn.ReLU(),\n",
    "            fc2,\n",
    "            nn.ReLU(),\n",
    "            fc3\n",
    "        )\n",
    "        \n",
    "        # gpu로 할당\n",
    "        if use_cuda:\n",
    "            self.conv_module = self.conv_module.cuda()\n",
    "            self.fc_module = self.fc_module.cuda()\n",
    "        \n",
    "    def forward(self, x):\n",
    "        out = self.conv_module(x) # @16*4*4\n",
    "        # make linear\n",
    "        dim = 1\n",
    "        for d in out.size()[1:]: #16, 4, 4\n",
    "            dim = dim * d\n",
    "        out = out.view(-1, dim)\n",
    "        out = self.fc_module(out)\n",
    "        return F.softmax(out, dim=1)"
   ]
  },
  {
   "cell_type": "code",
   "execution_count": 13,
   "metadata": {
    "ExecuteTime": {
     "end_time": "2020-10-19T10:06:44.041417Z",
     "start_time": "2020-10-19T10:06:42.717707Z"
    }
   },
   "outputs": [],
   "source": [
    "cnn = CNNClassifier()"
   ]
  },
  {
   "cell_type": "code",
   "execution_count": 14,
   "metadata": {
    "ExecuteTime": {
     "end_time": "2020-10-19T10:06:51.655351Z",
     "start_time": "2020-10-19T10:06:51.651839Z"
    }
   },
   "outputs": [],
   "source": [
    "# loss\n",
    "criterion = nn.CrossEntropyLoss()\n",
    "# backpropagation method\n",
    "learning_rate = 1e-3\n",
    "optimizer = optim.Adam(cnn.parameters(), lr=learning_rate)"
   ]
  },
  {
   "cell_type": "code",
   "execution_count": 15,
   "metadata": {
    "ExecuteTime": {
     "end_time": "2020-10-19T10:07:04.112042Z",
     "start_time": "2020-10-19T10:07:04.108861Z"
    }
   },
   "outputs": [],
   "source": [
    "# hyper-parameters\n",
    "num_epochs = 2"
   ]
  },
  {
   "cell_type": "code",
   "execution_count": 16,
   "metadata": {
    "ExecuteTime": {
     "end_time": "2020-10-19T10:07:12.335138Z",
     "start_time": "2020-10-19T10:07:12.327323Z"
    }
   },
   "outputs": [
    {
     "data": {
      "text/plain": [
       "938"
      ]
     },
     "execution_count": 16,
     "metadata": {},
     "output_type": "execute_result"
    }
   ],
   "source": [
    "num_batches"
   ]
  },
  {
   "cell_type": "code",
   "execution_count": 17,
   "metadata": {
    "ExecuteTime": {
     "end_time": "2020-10-19T10:07:19.593595Z",
     "start_time": "2020-10-19T10:07:19.589245Z"
    }
   },
   "outputs": [
    {
     "data": {
      "text/plain": [
       "64"
      ]
     },
     "execution_count": 17,
     "metadata": {},
     "output_type": "execute_result"
    }
   ],
   "source": [
    "batch_size"
   ]
  },
  {
   "cell_type": "code",
   "execution_count": 18,
   "metadata": {
    "ExecuteTime": {
     "end_time": "2020-10-19T10:08:46.514701Z",
     "start_time": "2020-10-19T10:07:36.266353Z"
    }
   },
   "outputs": [
    {
     "data": {
      "image/png": "[encoded data removed]",
      "text/plain": [
       "<Figure size 432x432 with 8 Axes>"
      ]
     },
     "metadata": {},
     "output_type": "display_data"
    },
    {
     "name": "stdout",
     "output_type": "stream",
     "text": [
      "label: tensor([4, 7, 4, 5, 8, 6, 9, 1], device='cuda:0')\n",
      "prediction: tensor([4, 7, 4, 5, 8, 6, 9, 1], device='cuda:0')\n",
      "epoch: 2/2 | step: 900/938 | trn loss: 1.4913 | val loss: 1.4879\n"
     ]
    },
    {
     "data": {
      "image/png": "[encoded data removed]",
      "text/plain": [
       "<Figure size 432x432 with 8 Axes>"
      ]
     },
     "metadata": {
      "needs_background": "light"
     },
     "output_type": "display_data"
    }
   ],
   "source": [
    "# create figure for plotting\n",
    "row_num = 2\n",
    "col_num = 4\n",
    "fig, ax = plt.subplots(row_num, col_num, figsize=(6,6))\n",
    "for i, j in itertools.product(range(row_num), range(col_num)):\n",
    "    ax[i,j].get_xaxis().set_visible(False)\n",
    "    ax[i,j].get_yaxis().set_visible(False) \n",
    "    \n",
    "trn_loss_list = []\n",
    "val_loss_list = []\n",
    "\n",
    "for epoch in range(num_epochs):\n",
    "    trn_loss = 0.0\n",
    "    for i, data in enumerate(trn_loader):\n",
    "        x, label = data\n",
    "        if use_cuda:\n",
    "            x = x.cuda()\n",
    "            label = label.cuda()\n",
    "        # grad init\n",
    "        optimizer.zero_grad()\n",
    "        # forward propagation\n",
    "        model_output = cnn(x)\n",
    "        # calculate loss\n",
    "        loss = criterion(model_output, label)\n",
    "        # back propagation \n",
    "        loss.backward()\n",
    "        # weight update\n",
    "        optimizer.step()\n",
    "        \n",
    "        # trn_loss summary\n",
    "        trn_loss += loss.item()\n",
    "        # del (memory issue)\n",
    "        del loss\n",
    "        del model_output\n",
    "        \n",
    "        # 학습과정 출력\n",
    "        if (i+1) % 100 == 0: # every 100 mini-batches\n",
    "            with torch.no_grad(): # very very very very important!!!\n",
    "                val_loss = 0.0\n",
    "                for j, val in enumerate(val_loader):\n",
    "                    val_x, val_label = val\n",
    "                    if use_cuda:\n",
    "                        val_x = val_x.cuda()\n",
    "                        val_label =val_label.cuda()\n",
    "                    val_output = cnn(val_x)\n",
    "                    v_loss = criterion(val_output, val_label)\n",
    "                    val_loss += v_loss\n",
    "\n",
    "            # draw last val dataset\n",
    "            for k in range(row_num*col_num):\n",
    "                ii = k//col_num\n",
    "                jj = k%col_num\n",
    "                ax[ii,jj].cla() # clear the current axis\n",
    "                ax[ii,jj].imshow(val_x[k,:].data.cpu().numpy().reshape(28,28), cmap='Greys')\n",
    "            \n",
    "            display.clear_output(wait=True)\n",
    "            display.display(plt.gcf()) # get a reference to a current figure\n",
    "                \n",
    "            print(\"label: {}\".format(val_label[:row_num*col_num]))\n",
    "            print(\"prediction: {}\".format(val_output.argmax(dim=1)[:row_num*col_num]))\n",
    "            del val_output\n",
    "            del v_loss\n",
    "            \n",
    "            print(\"epoch: {}/{} | step: {}/{} | trn loss: {:.4f} | val loss: {:.4f}\".format(\n",
    "                epoch+1, num_epochs, i+1, num_batches, trn_loss / 100, val_loss / len(val_loader)\n",
    "            ))            \n",
    "            \n",
    "            trn_loss_list.append(trn_loss/100)\n",
    "            val_loss_list.append(val_loss/len(val_loader))\n",
    "            trn_loss = 0.0"
   ]
  },
  {
   "cell_type": "code",
   "execution_count": 19,
   "metadata": {
    "ExecuteTime": {
     "end_time": "2020-10-19T10:09:00.423105Z",
     "start_time": "2020-10-19T10:09:00.209231Z"
    }
   },
   "outputs": [
    {
     "data": {
      "text/plain": [
       "Text(0, 0.5, 'loss')"
      ]
     },
     "execution_count": 19,
     "metadata": {},
     "output_type": "execute_result"
    },
    {
     "data": {
      "image/png": "[encoded data removed]",
      "text/plain": [
       "<Figure size 1152x648 with 1 Axes>"
      ]
     },
     "metadata": {
      "needs_background": "light"
     },
     "output_type": "display_data"
    }
   ],
   "source": [
    "plt.figure(figsize=(16,9))\n",
    "x_range = range(len(trn_loss_list))\n",
    "plt.plot(x_range, trn_loss_list, label=\"trn\")\n",
    "plt.plot(x_range, val_loss_list, label=\"val\")\n",
    "plt.legend()\n",
    "plt.xlabel(\"training steps\")\n",
    "plt.ylabel(\"loss\")"
   ]
  },
  {
   "cell_type": "code",
   "execution_count": 20,
   "metadata": {
    "ExecuteTime": {
     "end_time": "2020-10-19T10:09:09.818427Z",
     "start_time": "2020-10-19T10:09:07.633628Z"
    }
   },
   "outputs": [
    {
     "name": "stdout",
     "output_type": "stream",
     "text": [
      "acc: 97.69\n"
     ]
    }
   ],
   "source": [
    "# val acc\n",
    "with torch.no_grad():\n",
    "    corr_num = 0\n",
    "    total_num = 0\n",
    "    for j, val in enumerate(val_loader):\n",
    "        val_x, val_label = val\n",
    "        if use_cuda:\n",
    "            val_x = val_x.cuda()\n",
    "            val_label =val_label.cuda()\n",
    "        val_output = cnn(val_x)\n",
    "        model_label = val_output.argmax(dim=1)\n",
    "        corr = val_label[val_label == model_label].size(0)\n",
    "        corr_num += corr\n",
    "        total_num += val_label.size(0)\n",
    "\n",
    "print(\"acc: {:.2f}\".format(corr_num / total_num * 100))"
   ]
  },
  {
   "cell_type": "code",
   "execution_count": null,
   "metadata": {},
   "outputs": [],
   "source": []
  }
 ],
 "metadata": {
  "kernelspec": {
   "display_name": "Python 3",
   "language": "python",
   "name": "python3"
  },
  "language_info": {
   "codemirror_mode": {
    "name": "ipython",
    "version": 3
   },
   "file_extension": ".py",
   "mimetype": "text/x-python",
   "name": "python",
   "nbconvert_exporter": "python",
   "pygments_lexer": "ipython3",
   "version": "3.7.6"
  },
  "toc": {
   "base_numbering": 1,
   "nav_menu": {},
   "number_sections": false,
   "sideBar": true,
   "skip_h1_title": false,
   "title_cell": "Table of Contents",
   "title_sidebar": "Contents",
   "toc_cell": false,
   "toc_position": {},
   "toc_section_display": true,
   "toc_window_display": false
  }
 },
 "nbformat": 4,
 "nbformat_minor": 2
}
